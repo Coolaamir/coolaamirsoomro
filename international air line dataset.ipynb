{
 "cells": [
  {
   "cell_type": "code",
   "execution_count": 9,
   "id": "b9ccb608-b285-47be-9b13-6504832b56e1",
   "metadata": {},
   "outputs": [],
   "source": [
    "import pandas as pd\n"
   ]
  },
  {
   "cell_type": "code",
   "execution_count": 12,
   "id": "997d6986-24cd-489e-ac0e-227d1cfb92ea",
   "metadata": {},
   "outputs": [],
   "source": [
    "data = pd.read_csv('dt.csv')"
   ]
  },
  {
   "cell_type": "code",
   "execution_count": 11,
   "id": "7c3aca92-da0e-4408-915f-abd619f51cbd",
   "metadata": {},
   "outputs": [
    {
     "data": {
      "text/html": [
       "<div>\n",
       "<style scoped>\n",
       "    .dataframe tbody tr th:only-of-type {\n",
       "        vertical-align: middle;\n",
       "    }\n",
       "\n",
       "    .dataframe tbody tr th {\n",
       "        vertical-align: top;\n",
       "    }\n",
       "\n",
       "    .dataframe thead th {\n",
       "        text-align: right;\n",
       "    }\n",
       "</style>\n",
       "<table border=\"1\" class=\"dataframe\">\n",
       "  <thead>\n",
       "    <tr style=\"text-align: right;\">\n",
       "      <th></th>\n",
       "      <th>data_dte</th>\n",
       "      <th>Year</th>\n",
       "      <th>Month</th>\n",
       "      <th>usg_apt_id</th>\n",
       "      <th>usg_apt</th>\n",
       "      <th>usg_wac</th>\n",
       "      <th>fg_apt_id</th>\n",
       "      <th>fg_apt</th>\n",
       "      <th>fg_wac</th>\n",
       "      <th>airlineid</th>\n",
       "      <th>carrier</th>\n",
       "      <th>carriergroup</th>\n",
       "      <th>type</th>\n",
       "      <th>Scheduled</th>\n",
       "      <th>Charter</th>\n",
       "      <th>Total</th>\n",
       "    </tr>\n",
       "  </thead>\n",
       "  <tbody>\n",
       "    <tr>\n",
       "      <th>0</th>\n",
       "      <td>05/01/2006</td>\n",
       "      <td>2006</td>\n",
       "      <td>5</td>\n",
       "      <td>12016</td>\n",
       "      <td>GUM</td>\n",
       "      <td>5</td>\n",
       "      <td>13162</td>\n",
       "      <td>MAJ</td>\n",
       "      <td>844</td>\n",
       "      <td>20177</td>\n",
       "      <td>PFQ</td>\n",
       "      <td>1</td>\n",
       "      <td>Departures</td>\n",
       "      <td>0</td>\n",
       "      <td>10</td>\n",
       "      <td>10</td>\n",
       "    </tr>\n",
       "    <tr>\n",
       "      <th>1</th>\n",
       "      <td>05/01/2003</td>\n",
       "      <td>2003</td>\n",
       "      <td>5</td>\n",
       "      <td>10299</td>\n",
       "      <td>ANC</td>\n",
       "      <td>1</td>\n",
       "      <td>13856</td>\n",
       "      <td>OKO</td>\n",
       "      <td>736</td>\n",
       "      <td>20007</td>\n",
       "      <td>5Y</td>\n",
       "      <td>1</td>\n",
       "      <td>Departures</td>\n",
       "      <td>0</td>\n",
       "      <td>15</td>\n",
       "      <td>15</td>\n",
       "    </tr>\n",
       "    <tr>\n",
       "      <th>2</th>\n",
       "      <td>03/01/2007</td>\n",
       "      <td>2007</td>\n",
       "      <td>3</td>\n",
       "      <td>10721</td>\n",
       "      <td>BOS</td>\n",
       "      <td>13</td>\n",
       "      <td>12651</td>\n",
       "      <td>KEF</td>\n",
       "      <td>439</td>\n",
       "      <td>20402</td>\n",
       "      <td>GL</td>\n",
       "      <td>1</td>\n",
       "      <td>Departures</td>\n",
       "      <td>0</td>\n",
       "      <td>1</td>\n",
       "      <td>1</td>\n",
       "    </tr>\n",
       "    <tr>\n",
       "      <th>3</th>\n",
       "      <td>12/01/2004</td>\n",
       "      <td>2004</td>\n",
       "      <td>12</td>\n",
       "      <td>11259</td>\n",
       "      <td>DAL</td>\n",
       "      <td>74</td>\n",
       "      <td>16271</td>\n",
       "      <td>YYZ</td>\n",
       "      <td>936</td>\n",
       "      <td>20201</td>\n",
       "      <td>AMQ</td>\n",
       "      <td>1</td>\n",
       "      <td>Departures</td>\n",
       "      <td>0</td>\n",
       "      <td>1</td>\n",
       "      <td>1</td>\n",
       "    </tr>\n",
       "    <tr>\n",
       "      <th>4</th>\n",
       "      <td>05/01/2009</td>\n",
       "      <td>2009</td>\n",
       "      <td>5</td>\n",
       "      <td>13303</td>\n",
       "      <td>MIA</td>\n",
       "      <td>33</td>\n",
       "      <td>11075</td>\n",
       "      <td>CMW</td>\n",
       "      <td>219</td>\n",
       "      <td>21323</td>\n",
       "      <td>5L</td>\n",
       "      <td>0</td>\n",
       "      <td>Departures</td>\n",
       "      <td>0</td>\n",
       "      <td>20</td>\n",
       "      <td>20</td>\n",
       "    </tr>\n",
       "    <tr>\n",
       "      <th>...</th>\n",
       "      <td>...</td>\n",
       "      <td>...</td>\n",
       "      <td>...</td>\n",
       "      <td>...</td>\n",
       "      <td>...</td>\n",
       "      <td>...</td>\n",
       "      <td>...</td>\n",
       "      <td>...</td>\n",
       "      <td>...</td>\n",
       "      <td>...</td>\n",
       "      <td>...</td>\n",
       "      <td>...</td>\n",
       "      <td>...</td>\n",
       "      <td>...</td>\n",
       "      <td>...</td>\n",
       "      <td>...</td>\n",
       "    </tr>\n",
       "    <tr>\n",
       "      <th>930803</th>\n",
       "      <td>07/01/2000</td>\n",
       "      <td>2000</td>\n",
       "      <td>7</td>\n",
       "      <td>13303</td>\n",
       "      <td>MIA</td>\n",
       "      <td>33</td>\n",
       "      <td>13605</td>\n",
       "      <td>NAS</td>\n",
       "      <td>204</td>\n",
       "      <td>20398</td>\n",
       "      <td>MQ</td>\n",
       "      <td>1</td>\n",
       "      <td>Departures</td>\n",
       "      <td>1422</td>\n",
       "      <td>0</td>\n",
       "      <td>1422</td>\n",
       "    </tr>\n",
       "    <tr>\n",
       "      <th>930804</th>\n",
       "      <td>04/01/2019</td>\n",
       "      <td>2019</td>\n",
       "      <td>4</td>\n",
       "      <td>13303</td>\n",
       "      <td>MIA</td>\n",
       "      <td>33</td>\n",
       "      <td>14286</td>\n",
       "      <td>PTY</td>\n",
       "      <td>162</td>\n",
       "      <td>19770</td>\n",
       "      <td>CM</td>\n",
       "      <td>0</td>\n",
       "      <td>Departures</td>\n",
       "      <td>1439</td>\n",
       "      <td>0</td>\n",
       "      <td>1439</td>\n",
       "    </tr>\n",
       "    <tr>\n",
       "      <th>930805</th>\n",
       "      <td>08/01/2000</td>\n",
       "      <td>2000</td>\n",
       "      <td>8</td>\n",
       "      <td>13303</td>\n",
       "      <td>MIA</td>\n",
       "      <td>33</td>\n",
       "      <td>13605</td>\n",
       "      <td>NAS</td>\n",
       "      <td>204</td>\n",
       "      <td>20398</td>\n",
       "      <td>MQ</td>\n",
       "      <td>1</td>\n",
       "      <td>Departures</td>\n",
       "      <td>1441</td>\n",
       "      <td>0</td>\n",
       "      <td>1441</td>\n",
       "    </tr>\n",
       "    <tr>\n",
       "      <th>930806</th>\n",
       "      <td>09/01/2004</td>\n",
       "      <td>2004</td>\n",
       "      <td>9</td>\n",
       "      <td>12266</td>\n",
       "      <td>IAH</td>\n",
       "      <td>74</td>\n",
       "      <td>15632</td>\n",
       "      <td>VSA</td>\n",
       "      <td>148</td>\n",
       "      <td>19534</td>\n",
       "      <td>AM</td>\n",
       "      <td>0</td>\n",
       "      <td>Departures</td>\n",
       "      <td>1461</td>\n",
       "      <td>0</td>\n",
       "      <td>1461</td>\n",
       "    </tr>\n",
       "    <tr>\n",
       "      <th>930807</th>\n",
       "      <td>05/01/1996</td>\n",
       "      <td>1996</td>\n",
       "      <td>5</td>\n",
       "      <td>12478</td>\n",
       "      <td>JFK</td>\n",
       "      <td>22</td>\n",
       "      <td>14210</td>\n",
       "      <td>POS</td>\n",
       "      <td>280</td>\n",
       "      <td>19542</td>\n",
       "      <td>BW</td>\n",
       "      <td>0</td>\n",
       "      <td>Departures</td>\n",
       "      <td>2019</td>\n",
       "      <td>0</td>\n",
       "      <td>2019</td>\n",
       "    </tr>\n",
       "  </tbody>\n",
       "</table>\n",
       "<p>930808 rows × 16 columns</p>\n",
       "</div>"
      ],
      "text/plain": [
       "          data_dte  Year  Month  usg_apt_id usg_apt  usg_wac  fg_apt_id  \\\n",
       "0       05/01/2006  2006      5       12016     GUM        5      13162   \n",
       "1       05/01/2003  2003      5       10299     ANC        1      13856   \n",
       "2       03/01/2007  2007      3       10721     BOS       13      12651   \n",
       "3       12/01/2004  2004     12       11259     DAL       74      16271   \n",
       "4       05/01/2009  2009      5       13303     MIA       33      11075   \n",
       "...            ...   ...    ...         ...     ...      ...        ...   \n",
       "930803  07/01/2000  2000      7       13303     MIA       33      13605   \n",
       "930804  04/01/2019  2019      4       13303     MIA       33      14286   \n",
       "930805  08/01/2000  2000      8       13303     MIA       33      13605   \n",
       "930806  09/01/2004  2004      9       12266     IAH       74      15632   \n",
       "930807  05/01/1996  1996      5       12478     JFK       22      14210   \n",
       "\n",
       "       fg_apt  fg_wac  airlineid carrier  carriergroup        type  Scheduled  \\\n",
       "0         MAJ     844      20177     PFQ             1  Departures          0   \n",
       "1         OKO     736      20007      5Y             1  Departures          0   \n",
       "2         KEF     439      20402      GL             1  Departures          0   \n",
       "3         YYZ     936      20201     AMQ             1  Departures          0   \n",
       "4         CMW     219      21323      5L             0  Departures          0   \n",
       "...       ...     ...        ...     ...           ...         ...        ...   \n",
       "930803    NAS     204      20398      MQ             1  Departures       1422   \n",
       "930804    PTY     162      19770      CM             0  Departures       1439   \n",
       "930805    NAS     204      20398      MQ             1  Departures       1441   \n",
       "930806    VSA     148      19534      AM             0  Departures       1461   \n",
       "930807    POS     280      19542      BW             0  Departures       2019   \n",
       "\n",
       "        Charter  Total  \n",
       "0            10     10  \n",
       "1            15     15  \n",
       "2             1      1  \n",
       "3             1      1  \n",
       "4            20     20  \n",
       "...         ...    ...  \n",
       "930803        0   1422  \n",
       "930804        0   1439  \n",
       "930805        0   1441  \n",
       "930806        0   1461  \n",
       "930807        0   2019  \n",
       "\n",
       "[930808 rows x 16 columns]"
      ]
     },
     "execution_count": 11,
     "metadata": {},
     "output_type": "execute_result"
    }
   ],
   "source": [
    "data"
   ]
  },
  {
   "cell_type": "code",
   "execution_count": 13,
   "id": "0072b6af-3561-47d7-9234-3077f17054ba",
   "metadata": {},
   "outputs": [
    {
     "name": "stdout",
     "output_type": "stream",
     "text": [
      "     data_dte  Year  Month  usg_apt_id usg_apt  usg_wac  fg_apt_id fg_apt  \\\n",
      "0  05/01/2006  2006      5       12016     GUM        5      13162    MAJ   \n",
      "1  05/01/2003  2003      5       10299     ANC        1      13856    OKO   \n",
      "2  03/01/2007  2007      3       10721     BOS       13      12651    KEF   \n",
      "3  12/01/2004  2004     12       11259     DAL       74      16271    YYZ   \n",
      "4  05/01/2009  2009      5       13303     MIA       33      11075    CMW   \n",
      "\n",
      "   fg_wac  airlineid carrier  carriergroup        type  Scheduled  Charter  \\\n",
      "0     844      20177     PFQ             1  Departures          0       10   \n",
      "1     736      20007      5Y             1  Departures          0       15   \n",
      "2     439      20402      GL             1  Departures          0        1   \n",
      "3     936      20201     AMQ             1  Departures          0        1   \n",
      "4     219      21323      5L             0  Departures          0       20   \n",
      "\n",
      "   Total  \n",
      "0     10  \n",
      "1     15  \n",
      "2      1  \n",
      "3      1  \n",
      "4     20  \n"
     ]
    }
   ],
   "source": [
    "print(data.head())"
   ]
  },
  {
   "cell_type": "code",
   "execution_count": 14,
   "id": "d37163e2-c220-4358-bb9b-c571f7ef8e5f",
   "metadata": {},
   "outputs": [
    {
     "name": "stdout",
     "output_type": "stream",
     "text": [
      "          data_dte  Year  Month  usg_apt_id usg_apt  usg_wac  fg_apt_id  \\\n",
      "930803  07/01/2000  2000      7       13303     MIA       33      13605   \n",
      "930804  04/01/2019  2019      4       13303     MIA       33      14286   \n",
      "930805  08/01/2000  2000      8       13303     MIA       33      13605   \n",
      "930806  09/01/2004  2004      9       12266     IAH       74      15632   \n",
      "930807  05/01/1996  1996      5       12478     JFK       22      14210   \n",
      "\n",
      "       fg_apt  fg_wac  airlineid carrier  carriergroup        type  Scheduled  \\\n",
      "930803    NAS     204      20398      MQ             1  Departures       1422   \n",
      "930804    PTY     162      19770      CM             0  Departures       1439   \n",
      "930805    NAS     204      20398      MQ             1  Departures       1441   \n",
      "930806    VSA     148      19534      AM             0  Departures       1461   \n",
      "930807    POS     280      19542      BW             0  Departures       2019   \n",
      "\n",
      "        Charter  Total  \n",
      "930803        0   1422  \n",
      "930804        0   1439  \n",
      "930805        0   1441  \n",
      "930806        0   1461  \n",
      "930807        0   2019  \n"
     ]
    }
   ],
   "source": [
    "print(data.tail()) "
   ]
  },
  {
   "cell_type": "code",
   "execution_count": 15,
   "id": "7eabcb61-e45b-4219-be15-95936fef3144",
   "metadata": {},
   "outputs": [
    {
     "name": "stdout",
     "output_type": "stream",
     "text": [
      "Index(['data_dte', 'Year', 'Month', 'usg_apt_id', 'usg_apt', 'usg_wac',\n",
      "       'fg_apt_id', 'fg_apt', 'fg_wac', 'airlineid', 'carrier', 'carriergroup',\n",
      "       'type', 'Scheduled', 'Charter', 'Total'],\n",
      "      dtype='object')\n"
     ]
    }
   ],
   "source": [
    "print(data.columns) "
   ]
  },
  {
   "cell_type": "code",
   "execution_count": 18,
   "id": "6ddc48a7-e0c6-4b19-badc-88e0a8e7f5ea",
   "metadata": {},
   "outputs": [
    {
     "data": {
      "text/plain": [
       "0           10\n",
       "1           15\n",
       "2            1\n",
       "3            1\n",
       "4           20\n",
       "          ... \n",
       "930803    1422\n",
       "930804    1439\n",
       "930805    1441\n",
       "930806    1461\n",
       "930807    2019\n",
       "Name: Total, Length: 930808, dtype: int64"
      ]
     },
     "execution_count": 18,
     "metadata": {},
     "output_type": "execute_result"
    }
   ],
   "source": [
    "total_series = data['Total'] \n",
    "total_series"
   ]
  },
  {
   "cell_type": "code",
   "execution_count": 19,
   "id": "7e597a6d-31fd-428d-bca4-1481a437ca07",
   "metadata": {},
   "outputs": [
    {
     "data": {
      "text/html": [
       "<div>\n",
       "<style scoped>\n",
       "    .dataframe tbody tr th:only-of-type {\n",
       "        vertical-align: middle;\n",
       "    }\n",
       "\n",
       "    .dataframe tbody tr th {\n",
       "        vertical-align: top;\n",
       "    }\n",
       "\n",
       "    .dataframe thead th {\n",
       "        text-align: right;\n",
       "    }\n",
       "</style>\n",
       "<table border=\"1\" class=\"dataframe\">\n",
       "  <thead>\n",
       "    <tr style=\"text-align: right;\">\n",
       "      <th></th>\n",
       "      <th>Year</th>\n",
       "      <th>Month</th>\n",
       "      <th>Total</th>\n",
       "    </tr>\n",
       "  </thead>\n",
       "  <tbody>\n",
       "    <tr>\n",
       "      <th>0</th>\n",
       "      <td>2006</td>\n",
       "      <td>5</td>\n",
       "      <td>10</td>\n",
       "    </tr>\n",
       "    <tr>\n",
       "      <th>1</th>\n",
       "      <td>2003</td>\n",
       "      <td>5</td>\n",
       "      <td>15</td>\n",
       "    </tr>\n",
       "    <tr>\n",
       "      <th>2</th>\n",
       "      <td>2007</td>\n",
       "      <td>3</td>\n",
       "      <td>1</td>\n",
       "    </tr>\n",
       "    <tr>\n",
       "      <th>3</th>\n",
       "      <td>2004</td>\n",
       "      <td>12</td>\n",
       "      <td>1</td>\n",
       "    </tr>\n",
       "    <tr>\n",
       "      <th>4</th>\n",
       "      <td>2009</td>\n",
       "      <td>5</td>\n",
       "      <td>20</td>\n",
       "    </tr>\n",
       "    <tr>\n",
       "      <th>...</th>\n",
       "      <td>...</td>\n",
       "      <td>...</td>\n",
       "      <td>...</td>\n",
       "    </tr>\n",
       "    <tr>\n",
       "      <th>930803</th>\n",
       "      <td>2000</td>\n",
       "      <td>7</td>\n",
       "      <td>1422</td>\n",
       "    </tr>\n",
       "    <tr>\n",
       "      <th>930804</th>\n",
       "      <td>2019</td>\n",
       "      <td>4</td>\n",
       "      <td>1439</td>\n",
       "    </tr>\n",
       "    <tr>\n",
       "      <th>930805</th>\n",
       "      <td>2000</td>\n",
       "      <td>8</td>\n",
       "      <td>1441</td>\n",
       "    </tr>\n",
       "    <tr>\n",
       "      <th>930806</th>\n",
       "      <td>2004</td>\n",
       "      <td>9</td>\n",
       "      <td>1461</td>\n",
       "    </tr>\n",
       "    <tr>\n",
       "      <th>930807</th>\n",
       "      <td>1996</td>\n",
       "      <td>5</td>\n",
       "      <td>2019</td>\n",
       "    </tr>\n",
       "  </tbody>\n",
       "</table>\n",
       "<p>930808 rows × 3 columns</p>\n",
       "</div>"
      ],
      "text/plain": [
       "        Year  Month  Total\n",
       "0       2006      5     10\n",
       "1       2003      5     15\n",
       "2       2007      3      1\n",
       "3       2004     12      1\n",
       "4       2009      5     20\n",
       "...      ...    ...    ...\n",
       "930803  2000      7   1422\n",
       "930804  2019      4   1439\n",
       "930805  2000      8   1441\n",
       "930806  2004      9   1461\n",
       "930807  1996      5   2019\n",
       "\n",
       "[930808 rows x 3 columns]"
      ]
     },
     "execution_count": 19,
     "metadata": {},
     "output_type": "execute_result"
    }
   ],
   "source": [
    "multi_cols = data[['Year', 'Month', 'Total']] \n",
    "multi_cols"
   ]
  },
  {
   "cell_type": "code",
   "execution_count": 20,
   "id": "e9953b5e-76b4-4427-9bd2-6e7b80cdf798",
   "metadata": {},
   "outputs": [
    {
     "name": "stdout",
     "output_type": "stream",
     "text": [
      "                Year          Month     usg_apt_id        usg_wac  \\\n",
      "count  930808.000000  930808.000000  930808.000000  930808.000000   \n",
      "mean     2006.021361       6.414783   12809.473781      42.511740   \n",
      "std         8.558831       3.471070    2716.223845      27.571338   \n",
      "min      1990.000000       1.000000   10010.000000       1.000000   \n",
      "25%      1999.000000       3.000000   11618.000000      22.000000   \n",
      "50%      2007.000000       6.000000   12892.000000      33.000000   \n",
      "75%      2014.000000       9.000000   13487.000000      72.000000   \n",
      "max      2020.000000      12.000000   99999.000000      93.000000   \n",
      "\n",
      "           fg_apt_id         fg_wac      airlineid   carriergroup  \\\n",
      "count  930808.000000  930808.000000  930808.000000  930808.000000   \n",
      "mean    13484.676238     466.910479   20057.217505       0.599361   \n",
      "std      1932.601107     288.005971     479.071456       0.490028   \n",
      "min     10119.000000     106.000000   19386.000000       0.000000   \n",
      "25%     11868.000000     205.000000   19704.000000       0.000000   \n",
      "50%     13408.000000     427.000000   19991.000000       1.000000   \n",
      "75%     15084.000000     736.000000   20312.000000       1.000000   \n",
      "max     16881.000000     975.000000   22067.000000       1.000000   \n",
      "\n",
      "           Scheduled        Charter          Total  \n",
      "count  930808.000000  930808.000000  930808.000000  \n",
      "mean       40.003181       2.005483      42.008665  \n",
      "std        60.948973       8.278403      60.340835  \n",
      "min         0.000000       0.000000       1.000000  \n",
      "25%         0.000000       0.000000       3.000000  \n",
      "50%        17.000000       0.000000      20.000000  \n",
      "75%        60.000000       1.000000      60.000000  \n",
      "max      2019.000000    1092.000000    2019.000000  \n"
     ]
    }
   ],
   "source": [
    "print(data.describe())"
   ]
  },
  {
   "cell_type": "code",
   "execution_count": 24,
   "id": "4fadf0fd-004e-4477-97e9-906a5a890a4c",
   "metadata": {},
   "outputs": [
    {
     "data": {
      "text/plain": [
       "0           0.495295\n",
       "1           0.742942\n",
       "2           0.049529\n",
       "3           0.049529\n",
       "4           0.990589\n",
       "             ...    \n",
       "930803     70.430906\n",
       "930804     71.272907\n",
       "930805     71.371966\n",
       "930806     72.362556\n",
       "930807    100.000000\n",
       "Name: Total_Percentage, Length: 930808, dtype: float64"
      ]
     },
     "execution_count": 24,
     "metadata": {},
     "output_type": "execute_result"
    }
   ],
   "source": [
    "data['Total_Percentage'] = data['Total'] / data['Total'].max() * 100\n",
    "data['Total_Percentage']"
   ]
  },
  {
   "cell_type": "code",
   "execution_count": 22,
   "id": "ae441a10-722c-41fc-bf82-fc6b2a494126",
   "metadata": {},
   "outputs": [
    {
     "data": {
      "text/html": [
       "<div>\n",
       "<style scoped>\n",
       "    .dataframe tbody tr th:only-of-type {\n",
       "        vertical-align: middle;\n",
       "    }\n",
       "\n",
       "    .dataframe tbody tr th {\n",
       "        vertical-align: top;\n",
       "    }\n",
       "\n",
       "    .dataframe thead th {\n",
       "        text-align: right;\n",
       "    }\n",
       "</style>\n",
       "<table border=\"1\" class=\"dataframe\">\n",
       "  <thead>\n",
       "    <tr style=\"text-align: right;\">\n",
       "      <th></th>\n",
       "      <th>data_dte</th>\n",
       "      <th>Year</th>\n",
       "      <th>Month</th>\n",
       "      <th>usg_apt_id</th>\n",
       "      <th>usg_apt</th>\n",
       "      <th>usg_wac</th>\n",
       "      <th>fg_apt_id</th>\n",
       "      <th>fg_apt</th>\n",
       "      <th>fg_wac</th>\n",
       "      <th>airlineid</th>\n",
       "      <th>carrier</th>\n",
       "      <th>carriergroup</th>\n",
       "      <th>type</th>\n",
       "      <th>Scheduled</th>\n",
       "      <th>Charter</th>\n",
       "      <th>Total</th>\n",
       "      <th>Total_Percentage</th>\n",
       "    </tr>\n",
       "  </thead>\n",
       "  <tbody>\n",
       "    <tr>\n",
       "      <th>256379</th>\n",
       "      <td>03/01/2019</td>\n",
       "      <td>2019</td>\n",
       "      <td>3</td>\n",
       "      <td>14262</td>\n",
       "      <td>PSP</td>\n",
       "      <td>91</td>\n",
       "      <td>16229</td>\n",
       "      <td>YVR</td>\n",
       "      <td>906</td>\n",
       "      <td>21439</td>\n",
       "      <td>14Q</td>\n",
       "      <td>0</td>\n",
       "      <td>Departures</td>\n",
       "      <td>0</td>\n",
       "      <td>1008</td>\n",
       "      <td>1008</td>\n",
       "      <td>49.925706</td>\n",
       "    </tr>\n",
       "    <tr>\n",
       "      <th>256649</th>\n",
       "      <td>04/01/2019</td>\n",
       "      <td>2019</td>\n",
       "      <td>4</td>\n",
       "      <td>10559</td>\n",
       "      <td>BFI</td>\n",
       "      <td>93</td>\n",
       "      <td>16229</td>\n",
       "      <td>YVR</td>\n",
       "      <td>906</td>\n",
       "      <td>21439</td>\n",
       "      <td>14Q</td>\n",
       "      <td>0</td>\n",
       "      <td>Departures</td>\n",
       "      <td>0</td>\n",
       "      <td>1092</td>\n",
       "      <td>1092</td>\n",
       "      <td>54.086181</td>\n",
       "    </tr>\n",
       "    <tr>\n",
       "      <th>930759</th>\n",
       "      <td>08/01/2005</td>\n",
       "      <td>2005</td>\n",
       "      <td>8</td>\n",
       "      <td>13002</td>\n",
       "      <td>LKE</td>\n",
       "      <td>93</td>\n",
       "      <td>16007</td>\n",
       "      <td>YBL</td>\n",
       "      <td>906</td>\n",
       "      <td>20272</td>\n",
       "      <td>KAH</td>\n",
       "      <td>1</td>\n",
       "      <td>Departures</td>\n",
       "      <td>978</td>\n",
       "      <td>28</td>\n",
       "      <td>1006</td>\n",
       "      <td>49.826647</td>\n",
       "    </tr>\n",
       "    <tr>\n",
       "      <th>930766</th>\n",
       "      <td>05/01/2000</td>\n",
       "      <td>2000</td>\n",
       "      <td>5</td>\n",
       "      <td>14747</td>\n",
       "      <td>SEA</td>\n",
       "      <td>93</td>\n",
       "      <td>16229</td>\n",
       "      <td>YVR</td>\n",
       "      <td>906</td>\n",
       "      <td>19687</td>\n",
       "      <td>QX</td>\n",
       "      <td>1</td>\n",
       "      <td>Departures</td>\n",
       "      <td>1007</td>\n",
       "      <td>0</td>\n",
       "      <td>1007</td>\n",
       "      <td>49.876176</td>\n",
       "    </tr>\n",
       "    <tr>\n",
       "      <th>930767</th>\n",
       "      <td>06/01/2001</td>\n",
       "      <td>2001</td>\n",
       "      <td>6</td>\n",
       "      <td>13303</td>\n",
       "      <td>MIA</td>\n",
       "      <td>33</td>\n",
       "      <td>13605</td>\n",
       "      <td>NAS</td>\n",
       "      <td>204</td>\n",
       "      <td>20398</td>\n",
       "      <td>MQ</td>\n",
       "      <td>1</td>\n",
       "      <td>Departures</td>\n",
       "      <td>1009</td>\n",
       "      <td>0</td>\n",
       "      <td>1009</td>\n",
       "      <td>49.975235</td>\n",
       "    </tr>\n",
       "    <tr>\n",
       "      <th>930768</th>\n",
       "      <td>11/01/2000</td>\n",
       "      <td>2000</td>\n",
       "      <td>11</td>\n",
       "      <td>13303</td>\n",
       "      <td>MIA</td>\n",
       "      <td>33</td>\n",
       "      <td>13605</td>\n",
       "      <td>NAS</td>\n",
       "      <td>204</td>\n",
       "      <td>20398</td>\n",
       "      <td>MQ</td>\n",
       "      <td>1</td>\n",
       "      <td>Departures</td>\n",
       "      <td>1014</td>\n",
       "      <td>0</td>\n",
       "      <td>1014</td>\n",
       "      <td>50.222883</td>\n",
       "    </tr>\n",
       "    <tr>\n",
       "      <th>930769</th>\n",
       "      <td>03/01/2015</td>\n",
       "      <td>2015</td>\n",
       "      <td>3</td>\n",
       "      <td>14843</td>\n",
       "      <td>SJU</td>\n",
       "      <td>3</td>\n",
       "      <td>11519</td>\n",
       "      <td>EIS</td>\n",
       "      <td>282</td>\n",
       "      <td>20253</td>\n",
       "      <td>9K</td>\n",
       "      <td>1</td>\n",
       "      <td>Departures</td>\n",
       "      <td>1018</td>\n",
       "      <td>0</td>\n",
       "      <td>1018</td>\n",
       "      <td>50.421000</td>\n",
       "    </tr>\n",
       "    <tr>\n",
       "      <th>930770</th>\n",
       "      <td>09/01/1998</td>\n",
       "      <td>1998</td>\n",
       "      <td>9</td>\n",
       "      <td>13303</td>\n",
       "      <td>MIA</td>\n",
       "      <td>33</td>\n",
       "      <td>13605</td>\n",
       "      <td>NAS</td>\n",
       "      <td>204</td>\n",
       "      <td>20398</td>\n",
       "      <td>MQ</td>\n",
       "      <td>1</td>\n",
       "      <td>Departures</td>\n",
       "      <td>1020</td>\n",
       "      <td>0</td>\n",
       "      <td>1020</td>\n",
       "      <td>50.520059</td>\n",
       "    </tr>\n",
       "    <tr>\n",
       "      <th>930771</th>\n",
       "      <td>07/01/1999</td>\n",
       "      <td>1999</td>\n",
       "      <td>7</td>\n",
       "      <td>13303</td>\n",
       "      <td>MIA</td>\n",
       "      <td>33</td>\n",
       "      <td>13605</td>\n",
       "      <td>NAS</td>\n",
       "      <td>204</td>\n",
       "      <td>20398</td>\n",
       "      <td>MQ</td>\n",
       "      <td>1</td>\n",
       "      <td>Departures</td>\n",
       "      <td>1022</td>\n",
       "      <td>0</td>\n",
       "      <td>1022</td>\n",
       "      <td>50.619118</td>\n",
       "    </tr>\n",
       "    <tr>\n",
       "      <th>930772</th>\n",
       "      <td>10/01/1999</td>\n",
       "      <td>1999</td>\n",
       "      <td>10</td>\n",
       "      <td>13303</td>\n",
       "      <td>MIA</td>\n",
       "      <td>33</td>\n",
       "      <td>13605</td>\n",
       "      <td>NAS</td>\n",
       "      <td>204</td>\n",
       "      <td>20398</td>\n",
       "      <td>MQ</td>\n",
       "      <td>1</td>\n",
       "      <td>Departures</td>\n",
       "      <td>1022</td>\n",
       "      <td>0</td>\n",
       "      <td>1022</td>\n",
       "      <td>50.619118</td>\n",
       "    </tr>\n",
       "    <tr>\n",
       "      <th>930773</th>\n",
       "      <td>12/01/2002</td>\n",
       "      <td>2002</td>\n",
       "      <td>12</td>\n",
       "      <td>13303</td>\n",
       "      <td>MIA</td>\n",
       "      <td>33</td>\n",
       "      <td>13605</td>\n",
       "      <td>NAS</td>\n",
       "      <td>204</td>\n",
       "      <td>20414</td>\n",
       "      <td>OW</td>\n",
       "      <td>1</td>\n",
       "      <td>Departures</td>\n",
       "      <td>1026</td>\n",
       "      <td>0</td>\n",
       "      <td>1026</td>\n",
       "      <td>50.817236</td>\n",
       "    </tr>\n",
       "    <tr>\n",
       "      <th>930774</th>\n",
       "      <td>08/01/2000</td>\n",
       "      <td>2000</td>\n",
       "      <td>8</td>\n",
       "      <td>14747</td>\n",
       "      <td>SEA</td>\n",
       "      <td>93</td>\n",
       "      <td>16229</td>\n",
       "      <td>YVR</td>\n",
       "      <td>906</td>\n",
       "      <td>19687</td>\n",
       "      <td>QX</td>\n",
       "      <td>1</td>\n",
       "      <td>Departures</td>\n",
       "      <td>1028</td>\n",
       "      <td>0</td>\n",
       "      <td>1028</td>\n",
       "      <td>50.916295</td>\n",
       "    </tr>\n",
       "    <tr>\n",
       "      <th>930775</th>\n",
       "      <td>07/01/2000</td>\n",
       "      <td>2000</td>\n",
       "      <td>7</td>\n",
       "      <td>14747</td>\n",
       "      <td>SEA</td>\n",
       "      <td>93</td>\n",
       "      <td>16229</td>\n",
       "      <td>YVR</td>\n",
       "      <td>906</td>\n",
       "      <td>19687</td>\n",
       "      <td>QX</td>\n",
       "      <td>1</td>\n",
       "      <td>Departures</td>\n",
       "      <td>1030</td>\n",
       "      <td>0</td>\n",
       "      <td>1030</td>\n",
       "      <td>51.015354</td>\n",
       "    </tr>\n",
       "    <tr>\n",
       "      <th>930776</th>\n",
       "      <td>01/01/2000</td>\n",
       "      <td>2000</td>\n",
       "      <td>1</td>\n",
       "      <td>13303</td>\n",
       "      <td>MIA</td>\n",
       "      <td>33</td>\n",
       "      <td>13605</td>\n",
       "      <td>NAS</td>\n",
       "      <td>204</td>\n",
       "      <td>20398</td>\n",
       "      <td>MQ</td>\n",
       "      <td>1</td>\n",
       "      <td>Departures</td>\n",
       "      <td>1033</td>\n",
       "      <td>0</td>\n",
       "      <td>1033</td>\n",
       "      <td>51.163943</td>\n",
       "    </tr>\n",
       "    <tr>\n",
       "      <th>930777</th>\n",
       "      <td>04/01/2013</td>\n",
       "      <td>2013</td>\n",
       "      <td>4</td>\n",
       "      <td>14843</td>\n",
       "      <td>SJU</td>\n",
       "      <td>3</td>\n",
       "      <td>11519</td>\n",
       "      <td>EIS</td>\n",
       "      <td>282</td>\n",
       "      <td>20253</td>\n",
       "      <td>9K</td>\n",
       "      <td>1</td>\n",
       "      <td>Departures</td>\n",
       "      <td>1036</td>\n",
       "      <td>0</td>\n",
       "      <td>1036</td>\n",
       "      <td>51.312531</td>\n",
       "    </tr>\n",
       "    <tr>\n",
       "      <th>930778</th>\n",
       "      <td>07/01/2001</td>\n",
       "      <td>2001</td>\n",
       "      <td>7</td>\n",
       "      <td>13303</td>\n",
       "      <td>MIA</td>\n",
       "      <td>33</td>\n",
       "      <td>13605</td>\n",
       "      <td>NAS</td>\n",
       "      <td>204</td>\n",
       "      <td>20398</td>\n",
       "      <td>MQ</td>\n",
       "      <td>1</td>\n",
       "      <td>Departures</td>\n",
       "      <td>1042</td>\n",
       "      <td>0</td>\n",
       "      <td>1042</td>\n",
       "      <td>51.609708</td>\n",
       "    </tr>\n",
       "    <tr>\n",
       "      <th>930779</th>\n",
       "      <td>04/01/2014</td>\n",
       "      <td>2014</td>\n",
       "      <td>4</td>\n",
       "      <td>14843</td>\n",
       "      <td>SJU</td>\n",
       "      <td>3</td>\n",
       "      <td>11519</td>\n",
       "      <td>EIS</td>\n",
       "      <td>282</td>\n",
       "      <td>20253</td>\n",
       "      <td>9K</td>\n",
       "      <td>1</td>\n",
       "      <td>Departures</td>\n",
       "      <td>1042</td>\n",
       "      <td>0</td>\n",
       "      <td>1042</td>\n",
       "      <td>51.609708</td>\n",
       "    </tr>\n",
       "    <tr>\n",
       "      <th>930780</th>\n",
       "      <td>11/01/2017</td>\n",
       "      <td>2017</td>\n",
       "      <td>11</td>\n",
       "      <td>10299</td>\n",
       "      <td>ANC</td>\n",
       "      <td>1</td>\n",
       "      <td>15306</td>\n",
       "      <td>TPE</td>\n",
       "      <td>781</td>\n",
       "      <td>19544</td>\n",
       "      <td>CI</td>\n",
       "      <td>0</td>\n",
       "      <td>Departures</td>\n",
       "      <td>1044</td>\n",
       "      <td>0</td>\n",
       "      <td>1044</td>\n",
       "      <td>51.708767</td>\n",
       "    </tr>\n",
       "    <tr>\n",
       "      <th>930781</th>\n",
       "      <td>04/01/2001</td>\n",
       "      <td>2001</td>\n",
       "      <td>4</td>\n",
       "      <td>13303</td>\n",
       "      <td>MIA</td>\n",
       "      <td>33</td>\n",
       "      <td>13605</td>\n",
       "      <td>NAS</td>\n",
       "      <td>204</td>\n",
       "      <td>20398</td>\n",
       "      <td>MQ</td>\n",
       "      <td>1</td>\n",
       "      <td>Departures</td>\n",
       "      <td>1046</td>\n",
       "      <td>0</td>\n",
       "      <td>1046</td>\n",
       "      <td>51.807826</td>\n",
       "    </tr>\n",
       "    <tr>\n",
       "      <th>930782</th>\n",
       "      <td>03/01/2001</td>\n",
       "      <td>2001</td>\n",
       "      <td>3</td>\n",
       "      <td>13303</td>\n",
       "      <td>MIA</td>\n",
       "      <td>33</td>\n",
       "      <td>13605</td>\n",
       "      <td>NAS</td>\n",
       "      <td>204</td>\n",
       "      <td>20398</td>\n",
       "      <td>MQ</td>\n",
       "      <td>1</td>\n",
       "      <td>Departures</td>\n",
       "      <td>1047</td>\n",
       "      <td>0</td>\n",
       "      <td>1047</td>\n",
       "      <td>51.857355</td>\n",
       "    </tr>\n",
       "    <tr>\n",
       "      <th>930783</th>\n",
       "      <td>03/01/2014</td>\n",
       "      <td>2014</td>\n",
       "      <td>3</td>\n",
       "      <td>14843</td>\n",
       "      <td>SJU</td>\n",
       "      <td>3</td>\n",
       "      <td>11519</td>\n",
       "      <td>EIS</td>\n",
       "      <td>282</td>\n",
       "      <td>20253</td>\n",
       "      <td>9K</td>\n",
       "      <td>1</td>\n",
       "      <td>Departures</td>\n",
       "      <td>1048</td>\n",
       "      <td>0</td>\n",
       "      <td>1048</td>\n",
       "      <td>51.906885</td>\n",
       "    </tr>\n",
       "    <tr>\n",
       "      <th>930784</th>\n",
       "      <td>11/01/1999</td>\n",
       "      <td>1999</td>\n",
       "      <td>11</td>\n",
       "      <td>13303</td>\n",
       "      <td>MIA</td>\n",
       "      <td>33</td>\n",
       "      <td>13605</td>\n",
       "      <td>NAS</td>\n",
       "      <td>204</td>\n",
       "      <td>20398</td>\n",
       "      <td>MQ</td>\n",
       "      <td>1</td>\n",
       "      <td>Departures</td>\n",
       "      <td>1056</td>\n",
       "      <td>0</td>\n",
       "      <td>1056</td>\n",
       "      <td>52.303120</td>\n",
       "    </tr>\n",
       "    <tr>\n",
       "      <th>930785</th>\n",
       "      <td>01/01/2009</td>\n",
       "      <td>2009</td>\n",
       "      <td>1</td>\n",
       "      <td>14843</td>\n",
       "      <td>SJU</td>\n",
       "      <td>3</td>\n",
       "      <td>11519</td>\n",
       "      <td>EIS</td>\n",
       "      <td>282</td>\n",
       "      <td>20253</td>\n",
       "      <td>9K</td>\n",
       "      <td>1</td>\n",
       "      <td>Departures</td>\n",
       "      <td>1056</td>\n",
       "      <td>0</td>\n",
       "      <td>1056</td>\n",
       "      <td>52.303120</td>\n",
       "    </tr>\n",
       "    <tr>\n",
       "      <th>930786</th>\n",
       "      <td>05/01/2001</td>\n",
       "      <td>2001</td>\n",
       "      <td>5</td>\n",
       "      <td>13303</td>\n",
       "      <td>MIA</td>\n",
       "      <td>33</td>\n",
       "      <td>13605</td>\n",
       "      <td>NAS</td>\n",
       "      <td>204</td>\n",
       "      <td>20398</td>\n",
       "      <td>MQ</td>\n",
       "      <td>1</td>\n",
       "      <td>Departures</td>\n",
       "      <td>1061</td>\n",
       "      <td>0</td>\n",
       "      <td>1061</td>\n",
       "      <td>52.550768</td>\n",
       "    </tr>\n",
       "    <tr>\n",
       "      <th>930787</th>\n",
       "      <td>01/01/2001</td>\n",
       "      <td>2001</td>\n",
       "      <td>1</td>\n",
       "      <td>13303</td>\n",
       "      <td>MIA</td>\n",
       "      <td>33</td>\n",
       "      <td>13605</td>\n",
       "      <td>NAS</td>\n",
       "      <td>204</td>\n",
       "      <td>20398</td>\n",
       "      <td>MQ</td>\n",
       "      <td>1</td>\n",
       "      <td>Departures</td>\n",
       "      <td>1061</td>\n",
       "      <td>0</td>\n",
       "      <td>1061</td>\n",
       "      <td>52.550768</td>\n",
       "    </tr>\n",
       "    <tr>\n",
       "      <th>930788</th>\n",
       "      <td>06/01/1998</td>\n",
       "      <td>1998</td>\n",
       "      <td>6</td>\n",
       "      <td>13303</td>\n",
       "      <td>MIA</td>\n",
       "      <td>33</td>\n",
       "      <td>13605</td>\n",
       "      <td>NAS</td>\n",
       "      <td>204</td>\n",
       "      <td>20398</td>\n",
       "      <td>MQ</td>\n",
       "      <td>1</td>\n",
       "      <td>Departures</td>\n",
       "      <td>1065</td>\n",
       "      <td>0</td>\n",
       "      <td>1065</td>\n",
       "      <td>52.748886</td>\n",
       "    </tr>\n",
       "    <tr>\n",
       "      <th>930789</th>\n",
       "      <td>03/01/2009</td>\n",
       "      <td>2009</td>\n",
       "      <td>3</td>\n",
       "      <td>14843</td>\n",
       "      <td>SJU</td>\n",
       "      <td>3</td>\n",
       "      <td>11519</td>\n",
       "      <td>EIS</td>\n",
       "      <td>282</td>\n",
       "      <td>20253</td>\n",
       "      <td>9K</td>\n",
       "      <td>1</td>\n",
       "      <td>Departures</td>\n",
       "      <td>1070</td>\n",
       "      <td>0</td>\n",
       "      <td>1070</td>\n",
       "      <td>52.996533</td>\n",
       "    </tr>\n",
       "    <tr>\n",
       "      <th>930790</th>\n",
       "      <td>12/01/2000</td>\n",
       "      <td>2000</td>\n",
       "      <td>12</td>\n",
       "      <td>13303</td>\n",
       "      <td>MIA</td>\n",
       "      <td>33</td>\n",
       "      <td>13605</td>\n",
       "      <td>NAS</td>\n",
       "      <td>204</td>\n",
       "      <td>20398</td>\n",
       "      <td>MQ</td>\n",
       "      <td>1</td>\n",
       "      <td>Departures</td>\n",
       "      <td>1078</td>\n",
       "      <td>0</td>\n",
       "      <td>1078</td>\n",
       "      <td>53.392769</td>\n",
       "    </tr>\n",
       "    <tr>\n",
       "      <th>930791</th>\n",
       "      <td>08/01/2001</td>\n",
       "      <td>2001</td>\n",
       "      <td>8</td>\n",
       "      <td>13303</td>\n",
       "      <td>MIA</td>\n",
       "      <td>33</td>\n",
       "      <td>13605</td>\n",
       "      <td>NAS</td>\n",
       "      <td>204</td>\n",
       "      <td>20398</td>\n",
       "      <td>MQ</td>\n",
       "      <td>1</td>\n",
       "      <td>Departures</td>\n",
       "      <td>1081</td>\n",
       "      <td>0</td>\n",
       "      <td>1081</td>\n",
       "      <td>53.541357</td>\n",
       "    </tr>\n",
       "    <tr>\n",
       "      <th>930792</th>\n",
       "      <td>02/01/2000</td>\n",
       "      <td>2000</td>\n",
       "      <td>2</td>\n",
       "      <td>13303</td>\n",
       "      <td>MIA</td>\n",
       "      <td>33</td>\n",
       "      <td>13605</td>\n",
       "      <td>NAS</td>\n",
       "      <td>204</td>\n",
       "      <td>20398</td>\n",
       "      <td>MQ</td>\n",
       "      <td>1</td>\n",
       "      <td>Departures</td>\n",
       "      <td>1084</td>\n",
       "      <td>0</td>\n",
       "      <td>1084</td>\n",
       "      <td>53.689946</td>\n",
       "    </tr>\n",
       "    <tr>\n",
       "      <th>930793</th>\n",
       "      <td>04/01/2019</td>\n",
       "      <td>2019</td>\n",
       "      <td>4</td>\n",
       "      <td>13204</td>\n",
       "      <td>MCO</td>\n",
       "      <td>33</td>\n",
       "      <td>14286</td>\n",
       "      <td>PTY</td>\n",
       "      <td>162</td>\n",
       "      <td>19770</td>\n",
       "      <td>CM</td>\n",
       "      <td>0</td>\n",
       "      <td>Departures</td>\n",
       "      <td>1096</td>\n",
       "      <td>0</td>\n",
       "      <td>1096</td>\n",
       "      <td>54.284299</td>\n",
       "    </tr>\n",
       "    <tr>\n",
       "      <th>930794</th>\n",
       "      <td>12/01/1999</td>\n",
       "      <td>1999</td>\n",
       "      <td>12</td>\n",
       "      <td>13303</td>\n",
       "      <td>MIA</td>\n",
       "      <td>33</td>\n",
       "      <td>13605</td>\n",
       "      <td>NAS</td>\n",
       "      <td>204</td>\n",
       "      <td>20398</td>\n",
       "      <td>MQ</td>\n",
       "      <td>1</td>\n",
       "      <td>Departures</td>\n",
       "      <td>1100</td>\n",
       "      <td>0</td>\n",
       "      <td>1100</td>\n",
       "      <td>54.482417</td>\n",
       "    </tr>\n",
       "    <tr>\n",
       "      <th>930795</th>\n",
       "      <td>09/01/2000</td>\n",
       "      <td>2000</td>\n",
       "      <td>9</td>\n",
       "      <td>13303</td>\n",
       "      <td>MIA</td>\n",
       "      <td>33</td>\n",
       "      <td>13605</td>\n",
       "      <td>NAS</td>\n",
       "      <td>204</td>\n",
       "      <td>20398</td>\n",
       "      <td>MQ</td>\n",
       "      <td>1</td>\n",
       "      <td>Departures</td>\n",
       "      <td>1118</td>\n",
       "      <td>0</td>\n",
       "      <td>1118</td>\n",
       "      <td>55.373947</td>\n",
       "    </tr>\n",
       "    <tr>\n",
       "      <th>930796</th>\n",
       "      <td>08/01/1999</td>\n",
       "      <td>1999</td>\n",
       "      <td>8</td>\n",
       "      <td>13303</td>\n",
       "      <td>MIA</td>\n",
       "      <td>33</td>\n",
       "      <td>13605</td>\n",
       "      <td>NAS</td>\n",
       "      <td>204</td>\n",
       "      <td>20398</td>\n",
       "      <td>MQ</td>\n",
       "      <td>1</td>\n",
       "      <td>Departures</td>\n",
       "      <td>1132</td>\n",
       "      <td>0</td>\n",
       "      <td>1132</td>\n",
       "      <td>56.067360</td>\n",
       "    </tr>\n",
       "    <tr>\n",
       "      <th>930797</th>\n",
       "      <td>03/01/2000</td>\n",
       "      <td>2000</td>\n",
       "      <td>3</td>\n",
       "      <td>13303</td>\n",
       "      <td>MIA</td>\n",
       "      <td>33</td>\n",
       "      <td>13605</td>\n",
       "      <td>NAS</td>\n",
       "      <td>204</td>\n",
       "      <td>20398</td>\n",
       "      <td>MQ</td>\n",
       "      <td>1</td>\n",
       "      <td>Departures</td>\n",
       "      <td>1147</td>\n",
       "      <td>0</td>\n",
       "      <td>1147</td>\n",
       "      <td>56.810302</td>\n",
       "    </tr>\n",
       "    <tr>\n",
       "      <th>930798</th>\n",
       "      <td>04/01/2000</td>\n",
       "      <td>2000</td>\n",
       "      <td>4</td>\n",
       "      <td>13303</td>\n",
       "      <td>MIA</td>\n",
       "      <td>33</td>\n",
       "      <td>13605</td>\n",
       "      <td>NAS</td>\n",
       "      <td>204</td>\n",
       "      <td>20398</td>\n",
       "      <td>MQ</td>\n",
       "      <td>1</td>\n",
       "      <td>Departures</td>\n",
       "      <td>1155</td>\n",
       "      <td>0</td>\n",
       "      <td>1155</td>\n",
       "      <td>57.206538</td>\n",
       "    </tr>\n",
       "    <tr>\n",
       "      <th>930799</th>\n",
       "      <td>06/01/2000</td>\n",
       "      <td>2000</td>\n",
       "      <td>6</td>\n",
       "      <td>13303</td>\n",
       "      <td>MIA</td>\n",
       "      <td>33</td>\n",
       "      <td>13605</td>\n",
       "      <td>NAS</td>\n",
       "      <td>204</td>\n",
       "      <td>20398</td>\n",
       "      <td>MQ</td>\n",
       "      <td>1</td>\n",
       "      <td>Departures</td>\n",
       "      <td>1220</td>\n",
       "      <td>0</td>\n",
       "      <td>1220</td>\n",
       "      <td>60.425953</td>\n",
       "    </tr>\n",
       "    <tr>\n",
       "      <th>930800</th>\n",
       "      <td>05/01/2000</td>\n",
       "      <td>2000</td>\n",
       "      <td>5</td>\n",
       "      <td>13303</td>\n",
       "      <td>MIA</td>\n",
       "      <td>33</td>\n",
       "      <td>13605</td>\n",
       "      <td>NAS</td>\n",
       "      <td>204</td>\n",
       "      <td>20398</td>\n",
       "      <td>MQ</td>\n",
       "      <td>1</td>\n",
       "      <td>Departures</td>\n",
       "      <td>1272</td>\n",
       "      <td>0</td>\n",
       "      <td>1272</td>\n",
       "      <td>63.001486</td>\n",
       "    </tr>\n",
       "    <tr>\n",
       "      <th>930801</th>\n",
       "      <td>08/01/1998</td>\n",
       "      <td>1998</td>\n",
       "      <td>8</td>\n",
       "      <td>13303</td>\n",
       "      <td>MIA</td>\n",
       "      <td>33</td>\n",
       "      <td>13605</td>\n",
       "      <td>NAS</td>\n",
       "      <td>204</td>\n",
       "      <td>20398</td>\n",
       "      <td>MQ</td>\n",
       "      <td>1</td>\n",
       "      <td>Departures</td>\n",
       "      <td>1308</td>\n",
       "      <td>0</td>\n",
       "      <td>1308</td>\n",
       "      <td>64.784547</td>\n",
       "    </tr>\n",
       "    <tr>\n",
       "      <th>930802</th>\n",
       "      <td>07/01/1998</td>\n",
       "      <td>1998</td>\n",
       "      <td>7</td>\n",
       "      <td>13303</td>\n",
       "      <td>MIA</td>\n",
       "      <td>33</td>\n",
       "      <td>13605</td>\n",
       "      <td>NAS</td>\n",
       "      <td>204</td>\n",
       "      <td>20398</td>\n",
       "      <td>MQ</td>\n",
       "      <td>1</td>\n",
       "      <td>Departures</td>\n",
       "      <td>1328</td>\n",
       "      <td>0</td>\n",
       "      <td>1328</td>\n",
       "      <td>65.775136</td>\n",
       "    </tr>\n",
       "    <tr>\n",
       "      <th>930803</th>\n",
       "      <td>07/01/2000</td>\n",
       "      <td>2000</td>\n",
       "      <td>7</td>\n",
       "      <td>13303</td>\n",
       "      <td>MIA</td>\n",
       "      <td>33</td>\n",
       "      <td>13605</td>\n",
       "      <td>NAS</td>\n",
       "      <td>204</td>\n",
       "      <td>20398</td>\n",
       "      <td>MQ</td>\n",
       "      <td>1</td>\n",
       "      <td>Departures</td>\n",
       "      <td>1422</td>\n",
       "      <td>0</td>\n",
       "      <td>1422</td>\n",
       "      <td>70.430906</td>\n",
       "    </tr>\n",
       "    <tr>\n",
       "      <th>930804</th>\n",
       "      <td>04/01/2019</td>\n",
       "      <td>2019</td>\n",
       "      <td>4</td>\n",
       "      <td>13303</td>\n",
       "      <td>MIA</td>\n",
       "      <td>33</td>\n",
       "      <td>14286</td>\n",
       "      <td>PTY</td>\n",
       "      <td>162</td>\n",
       "      <td>19770</td>\n",
       "      <td>CM</td>\n",
       "      <td>0</td>\n",
       "      <td>Departures</td>\n",
       "      <td>1439</td>\n",
       "      <td>0</td>\n",
       "      <td>1439</td>\n",
       "      <td>71.272907</td>\n",
       "    </tr>\n",
       "    <tr>\n",
       "      <th>930805</th>\n",
       "      <td>08/01/2000</td>\n",
       "      <td>2000</td>\n",
       "      <td>8</td>\n",
       "      <td>13303</td>\n",
       "      <td>MIA</td>\n",
       "      <td>33</td>\n",
       "      <td>13605</td>\n",
       "      <td>NAS</td>\n",
       "      <td>204</td>\n",
       "      <td>20398</td>\n",
       "      <td>MQ</td>\n",
       "      <td>1</td>\n",
       "      <td>Departures</td>\n",
       "      <td>1441</td>\n",
       "      <td>0</td>\n",
       "      <td>1441</td>\n",
       "      <td>71.371966</td>\n",
       "    </tr>\n",
       "    <tr>\n",
       "      <th>930806</th>\n",
       "      <td>09/01/2004</td>\n",
       "      <td>2004</td>\n",
       "      <td>9</td>\n",
       "      <td>12266</td>\n",
       "      <td>IAH</td>\n",
       "      <td>74</td>\n",
       "      <td>15632</td>\n",
       "      <td>VSA</td>\n",
       "      <td>148</td>\n",
       "      <td>19534</td>\n",
       "      <td>AM</td>\n",
       "      <td>0</td>\n",
       "      <td>Departures</td>\n",
       "      <td>1461</td>\n",
       "      <td>0</td>\n",
       "      <td>1461</td>\n",
       "      <td>72.362556</td>\n",
       "    </tr>\n",
       "    <tr>\n",
       "      <th>930807</th>\n",
       "      <td>05/01/1996</td>\n",
       "      <td>1996</td>\n",
       "      <td>5</td>\n",
       "      <td>12478</td>\n",
       "      <td>JFK</td>\n",
       "      <td>22</td>\n",
       "      <td>14210</td>\n",
       "      <td>POS</td>\n",
       "      <td>280</td>\n",
       "      <td>19542</td>\n",
       "      <td>BW</td>\n",
       "      <td>0</td>\n",
       "      <td>Departures</td>\n",
       "      <td>2019</td>\n",
       "      <td>0</td>\n",
       "      <td>2019</td>\n",
       "      <td>100.000000</td>\n",
       "    </tr>\n",
       "  </tbody>\n",
       "</table>\n",
       "</div>"
      ],
      "text/plain": [
       "          data_dte  Year  Month  usg_apt_id usg_apt  usg_wac  fg_apt_id  \\\n",
       "256379  03/01/2019  2019      3       14262     PSP       91      16229   \n",
       "256649  04/01/2019  2019      4       10559     BFI       93      16229   \n",
       "930759  08/01/2005  2005      8       13002     LKE       93      16007   \n",
       "930766  05/01/2000  2000      5       14747     SEA       93      16229   \n",
       "930767  06/01/2001  2001      6       13303     MIA       33      13605   \n",
       "930768  11/01/2000  2000     11       13303     MIA       33      13605   \n",
       "930769  03/01/2015  2015      3       14843     SJU        3      11519   \n",
       "930770  09/01/1998  1998      9       13303     MIA       33      13605   \n",
       "930771  07/01/1999  1999      7       13303     MIA       33      13605   \n",
       "930772  10/01/1999  1999     10       13303     MIA       33      13605   \n",
       "930773  12/01/2002  2002     12       13303     MIA       33      13605   \n",
       "930774  08/01/2000  2000      8       14747     SEA       93      16229   \n",
       "930775  07/01/2000  2000      7       14747     SEA       93      16229   \n",
       "930776  01/01/2000  2000      1       13303     MIA       33      13605   \n",
       "930777  04/01/2013  2013      4       14843     SJU        3      11519   \n",
       "930778  07/01/2001  2001      7       13303     MIA       33      13605   \n",
       "930779  04/01/2014  2014      4       14843     SJU        3      11519   \n",
       "930780  11/01/2017  2017     11       10299     ANC        1      15306   \n",
       "930781  04/01/2001  2001      4       13303     MIA       33      13605   \n",
       "930782  03/01/2001  2001      3       13303     MIA       33      13605   \n",
       "930783  03/01/2014  2014      3       14843     SJU        3      11519   \n",
       "930784  11/01/1999  1999     11       13303     MIA       33      13605   \n",
       "930785  01/01/2009  2009      1       14843     SJU        3      11519   \n",
       "930786  05/01/2001  2001      5       13303     MIA       33      13605   \n",
       "930787  01/01/2001  2001      1       13303     MIA       33      13605   \n",
       "930788  06/01/1998  1998      6       13303     MIA       33      13605   \n",
       "930789  03/01/2009  2009      3       14843     SJU        3      11519   \n",
       "930790  12/01/2000  2000     12       13303     MIA       33      13605   \n",
       "930791  08/01/2001  2001      8       13303     MIA       33      13605   \n",
       "930792  02/01/2000  2000      2       13303     MIA       33      13605   \n",
       "930793  04/01/2019  2019      4       13204     MCO       33      14286   \n",
       "930794  12/01/1999  1999     12       13303     MIA       33      13605   \n",
       "930795  09/01/2000  2000      9       13303     MIA       33      13605   \n",
       "930796  08/01/1999  1999      8       13303     MIA       33      13605   \n",
       "930797  03/01/2000  2000      3       13303     MIA       33      13605   \n",
       "930798  04/01/2000  2000      4       13303     MIA       33      13605   \n",
       "930799  06/01/2000  2000      6       13303     MIA       33      13605   \n",
       "930800  05/01/2000  2000      5       13303     MIA       33      13605   \n",
       "930801  08/01/1998  1998      8       13303     MIA       33      13605   \n",
       "930802  07/01/1998  1998      7       13303     MIA       33      13605   \n",
       "930803  07/01/2000  2000      7       13303     MIA       33      13605   \n",
       "930804  04/01/2019  2019      4       13303     MIA       33      14286   \n",
       "930805  08/01/2000  2000      8       13303     MIA       33      13605   \n",
       "930806  09/01/2004  2004      9       12266     IAH       74      15632   \n",
       "930807  05/01/1996  1996      5       12478     JFK       22      14210   \n",
       "\n",
       "       fg_apt  fg_wac  airlineid carrier  carriergroup        type  Scheduled  \\\n",
       "256379    YVR     906      21439     14Q             0  Departures          0   \n",
       "256649    YVR     906      21439     14Q             0  Departures          0   \n",
       "930759    YBL     906      20272     KAH             1  Departures        978   \n",
       "930766    YVR     906      19687      QX             1  Departures       1007   \n",
       "930767    NAS     204      20398      MQ             1  Departures       1009   \n",
       "930768    NAS     204      20398      MQ             1  Departures       1014   \n",
       "930769    EIS     282      20253      9K             1  Departures       1018   \n",
       "930770    NAS     204      20398      MQ             1  Departures       1020   \n",
       "930771    NAS     204      20398      MQ             1  Departures       1022   \n",
       "930772    NAS     204      20398      MQ             1  Departures       1022   \n",
       "930773    NAS     204      20414      OW             1  Departures       1026   \n",
       "930774    YVR     906      19687      QX             1  Departures       1028   \n",
       "930775    YVR     906      19687      QX             1  Departures       1030   \n",
       "930776    NAS     204      20398      MQ             1  Departures       1033   \n",
       "930777    EIS     282      20253      9K             1  Departures       1036   \n",
       "930778    NAS     204      20398      MQ             1  Departures       1042   \n",
       "930779    EIS     282      20253      9K             1  Departures       1042   \n",
       "930780    TPE     781      19544      CI             0  Departures       1044   \n",
       "930781    NAS     204      20398      MQ             1  Departures       1046   \n",
       "930782    NAS     204      20398      MQ             1  Departures       1047   \n",
       "930783    EIS     282      20253      9K             1  Departures       1048   \n",
       "930784    NAS     204      20398      MQ             1  Departures       1056   \n",
       "930785    EIS     282      20253      9K             1  Departures       1056   \n",
       "930786    NAS     204      20398      MQ             1  Departures       1061   \n",
       "930787    NAS     204      20398      MQ             1  Departures       1061   \n",
       "930788    NAS     204      20398      MQ             1  Departures       1065   \n",
       "930789    EIS     282      20253      9K             1  Departures       1070   \n",
       "930790    NAS     204      20398      MQ             1  Departures       1078   \n",
       "930791    NAS     204      20398      MQ             1  Departures       1081   \n",
       "930792    NAS     204      20398      MQ             1  Departures       1084   \n",
       "930793    PTY     162      19770      CM             0  Departures       1096   \n",
       "930794    NAS     204      20398      MQ             1  Departures       1100   \n",
       "930795    NAS     204      20398      MQ             1  Departures       1118   \n",
       "930796    NAS     204      20398      MQ             1  Departures       1132   \n",
       "930797    NAS     204      20398      MQ             1  Departures       1147   \n",
       "930798    NAS     204      20398      MQ             1  Departures       1155   \n",
       "930799    NAS     204      20398      MQ             1  Departures       1220   \n",
       "930800    NAS     204      20398      MQ             1  Departures       1272   \n",
       "930801    NAS     204      20398      MQ             1  Departures       1308   \n",
       "930802    NAS     204      20398      MQ             1  Departures       1328   \n",
       "930803    NAS     204      20398      MQ             1  Departures       1422   \n",
       "930804    PTY     162      19770      CM             0  Departures       1439   \n",
       "930805    NAS     204      20398      MQ             1  Departures       1441   \n",
       "930806    VSA     148      19534      AM             0  Departures       1461   \n",
       "930807    POS     280      19542      BW             0  Departures       2019   \n",
       "\n",
       "        Charter  Total  Total_Percentage  \n",
       "256379     1008   1008         49.925706  \n",
       "256649     1092   1092         54.086181  \n",
       "930759       28   1006         49.826647  \n",
       "930766        0   1007         49.876176  \n",
       "930767        0   1009         49.975235  \n",
       "930768        0   1014         50.222883  \n",
       "930769        0   1018         50.421000  \n",
       "930770        0   1020         50.520059  \n",
       "930771        0   1022         50.619118  \n",
       "930772        0   1022         50.619118  \n",
       "930773        0   1026         50.817236  \n",
       "930774        0   1028         50.916295  \n",
       "930775        0   1030         51.015354  \n",
       "930776        0   1033         51.163943  \n",
       "930777        0   1036         51.312531  \n",
       "930778        0   1042         51.609708  \n",
       "930779        0   1042         51.609708  \n",
       "930780        0   1044         51.708767  \n",
       "930781        0   1046         51.807826  \n",
       "930782        0   1047         51.857355  \n",
       "930783        0   1048         51.906885  \n",
       "930784        0   1056         52.303120  \n",
       "930785        0   1056         52.303120  \n",
       "930786        0   1061         52.550768  \n",
       "930787        0   1061         52.550768  \n",
       "930788        0   1065         52.748886  \n",
       "930789        0   1070         52.996533  \n",
       "930790        0   1078         53.392769  \n",
       "930791        0   1081         53.541357  \n",
       "930792        0   1084         53.689946  \n",
       "930793        0   1096         54.284299  \n",
       "930794        0   1100         54.482417  \n",
       "930795        0   1118         55.373947  \n",
       "930796        0   1132         56.067360  \n",
       "930797        0   1147         56.810302  \n",
       "930798        0   1155         57.206538  \n",
       "930799        0   1220         60.425953  \n",
       "930800        0   1272         63.001486  \n",
       "930801        0   1308         64.784547  \n",
       "930802        0   1328         65.775136  \n",
       "930803        0   1422         70.430906  \n",
       "930804        0   1439         71.272907  \n",
       "930805        0   1441         71.371966  \n",
       "930806        0   1461         72.362556  \n",
       "930807        0   2019        100.000000  "
      ]
     },
     "execution_count": 22,
     "metadata": {},
     "output_type": "execute_result"
    }
   ],
   "source": [
    "filtered_data = data[data['Total'] > 1000]\n",
    "filtered_data"
   ]
  },
  {
   "cell_type": "code",
   "execution_count": 23,
   "id": "a41d3bd3-5023-4c80-9802-d807472fba6d",
   "metadata": {},
   "outputs": [
    {
     "data": {
      "text/html": [
       "<div>\n",
       "<style scoped>\n",
       "    .dataframe tbody tr th:only-of-type {\n",
       "        vertical-align: middle;\n",
       "    }\n",
       "\n",
       "    .dataframe tbody tr th {\n",
       "        vertical-align: top;\n",
       "    }\n",
       "\n",
       "    .dataframe thead th {\n",
       "        text-align: right;\n",
       "    }\n",
       "</style>\n",
       "<table border=\"1\" class=\"dataframe\">\n",
       "  <thead>\n",
       "    <tr style=\"text-align: right;\">\n",
       "      <th></th>\n",
       "      <th>data_dte</th>\n",
       "      <th>Year</th>\n",
       "      <th>Month</th>\n",
       "      <th>usg_apt_id</th>\n",
       "      <th>usg_apt</th>\n",
       "      <th>usg_wac</th>\n",
       "      <th>fg_apt_id</th>\n",
       "      <th>fg_apt</th>\n",
       "      <th>fg_wac</th>\n",
       "      <th>airlineid</th>\n",
       "      <th>carrier</th>\n",
       "      <th>carriergroup</th>\n",
       "      <th>type</th>\n",
       "      <th>Scheduled</th>\n",
       "      <th>Charter</th>\n",
       "      <th>Total</th>\n",
       "      <th>Total_Percentage</th>\n",
       "    </tr>\n",
       "  </thead>\n",
       "  <tbody>\n",
       "    <tr>\n",
       "      <th>930807</th>\n",
       "      <td>05/01/1996</td>\n",
       "      <td>1996</td>\n",
       "      <td>5</td>\n",
       "      <td>12478</td>\n",
       "      <td>JFK</td>\n",
       "      <td>22</td>\n",
       "      <td>14210</td>\n",
       "      <td>POS</td>\n",
       "      <td>280</td>\n",
       "      <td>19542</td>\n",
       "      <td>BW</td>\n",
       "      <td>0</td>\n",
       "      <td>Departures</td>\n",
       "      <td>2019</td>\n",
       "      <td>0</td>\n",
       "      <td>2019</td>\n",
       "      <td>100.000000</td>\n",
       "    </tr>\n",
       "    <tr>\n",
       "      <th>930806</th>\n",
       "      <td>09/01/2004</td>\n",
       "      <td>2004</td>\n",
       "      <td>9</td>\n",
       "      <td>12266</td>\n",
       "      <td>IAH</td>\n",
       "      <td>74</td>\n",
       "      <td>15632</td>\n",
       "      <td>VSA</td>\n",
       "      <td>148</td>\n",
       "      <td>19534</td>\n",
       "      <td>AM</td>\n",
       "      <td>0</td>\n",
       "      <td>Departures</td>\n",
       "      <td>1461</td>\n",
       "      <td>0</td>\n",
       "      <td>1461</td>\n",
       "      <td>72.362556</td>\n",
       "    </tr>\n",
       "    <tr>\n",
       "      <th>930805</th>\n",
       "      <td>08/01/2000</td>\n",
       "      <td>2000</td>\n",
       "      <td>8</td>\n",
       "      <td>13303</td>\n",
       "      <td>MIA</td>\n",
       "      <td>33</td>\n",
       "      <td>13605</td>\n",
       "      <td>NAS</td>\n",
       "      <td>204</td>\n",
       "      <td>20398</td>\n",
       "      <td>MQ</td>\n",
       "      <td>1</td>\n",
       "      <td>Departures</td>\n",
       "      <td>1441</td>\n",
       "      <td>0</td>\n",
       "      <td>1441</td>\n",
       "      <td>71.371966</td>\n",
       "    </tr>\n",
       "    <tr>\n",
       "      <th>930804</th>\n",
       "      <td>04/01/2019</td>\n",
       "      <td>2019</td>\n",
       "      <td>4</td>\n",
       "      <td>13303</td>\n",
       "      <td>MIA</td>\n",
       "      <td>33</td>\n",
       "      <td>14286</td>\n",
       "      <td>PTY</td>\n",
       "      <td>162</td>\n",
       "      <td>19770</td>\n",
       "      <td>CM</td>\n",
       "      <td>0</td>\n",
       "      <td>Departures</td>\n",
       "      <td>1439</td>\n",
       "      <td>0</td>\n",
       "      <td>1439</td>\n",
       "      <td>71.272907</td>\n",
       "    </tr>\n",
       "    <tr>\n",
       "      <th>930803</th>\n",
       "      <td>07/01/2000</td>\n",
       "      <td>2000</td>\n",
       "      <td>7</td>\n",
       "      <td>13303</td>\n",
       "      <td>MIA</td>\n",
       "      <td>33</td>\n",
       "      <td>13605</td>\n",
       "      <td>NAS</td>\n",
       "      <td>204</td>\n",
       "      <td>20398</td>\n",
       "      <td>MQ</td>\n",
       "      <td>1</td>\n",
       "      <td>Departures</td>\n",
       "      <td>1422</td>\n",
       "      <td>0</td>\n",
       "      <td>1422</td>\n",
       "      <td>70.430906</td>\n",
       "    </tr>\n",
       "    <tr>\n",
       "      <th>...</th>\n",
       "      <td>...</td>\n",
       "      <td>...</td>\n",
       "      <td>...</td>\n",
       "      <td>...</td>\n",
       "      <td>...</td>\n",
       "      <td>...</td>\n",
       "      <td>...</td>\n",
       "      <td>...</td>\n",
       "      <td>...</td>\n",
       "      <td>...</td>\n",
       "      <td>...</td>\n",
       "      <td>...</td>\n",
       "      <td>...</td>\n",
       "      <td>...</td>\n",
       "      <td>...</td>\n",
       "      <td>...</td>\n",
       "      <td>...</td>\n",
       "    </tr>\n",
       "    <tr>\n",
       "      <th>276098</th>\n",
       "      <td>10/01/1992</td>\n",
       "      <td>1992</td>\n",
       "      <td>10</td>\n",
       "      <td>13342</td>\n",
       "      <td>MKE</td>\n",
       "      <td>45</td>\n",
       "      <td>16271</td>\n",
       "      <td>YYZ</td>\n",
       "      <td>936</td>\n",
       "      <td>19531</td>\n",
       "      <td>AC</td>\n",
       "      <td>0</td>\n",
       "      <td>Departures</td>\n",
       "      <td>1</td>\n",
       "      <td>0</td>\n",
       "      <td>1</td>\n",
       "      <td>0.049529</td>\n",
       "    </tr>\n",
       "    <tr>\n",
       "      <th>276099</th>\n",
       "      <td>05/01/2016</td>\n",
       "      <td>2016</td>\n",
       "      <td>5</td>\n",
       "      <td>13495</td>\n",
       "      <td>MSY</td>\n",
       "      <td>72</td>\n",
       "      <td>11244</td>\n",
       "      <td>CZM</td>\n",
       "      <td>148</td>\n",
       "      <td>19977</td>\n",
       "      <td>UA</td>\n",
       "      <td>1</td>\n",
       "      <td>Departures</td>\n",
       "      <td>1</td>\n",
       "      <td>0</td>\n",
       "      <td>1</td>\n",
       "      <td>0.049529</td>\n",
       "    </tr>\n",
       "    <tr>\n",
       "      <th>276100</th>\n",
       "      <td>05/01/2016</td>\n",
       "      <td>2016</td>\n",
       "      <td>5</td>\n",
       "      <td>13495</td>\n",
       "      <td>MSY</td>\n",
       "      <td>72</td>\n",
       "      <td>11032</td>\n",
       "      <td>CUN</td>\n",
       "      <td>148</td>\n",
       "      <td>20416</td>\n",
       "      <td>NK</td>\n",
       "      <td>1</td>\n",
       "      <td>Departures</td>\n",
       "      <td>1</td>\n",
       "      <td>0</td>\n",
       "      <td>1</td>\n",
       "      <td>0.049529</td>\n",
       "    </tr>\n",
       "    <tr>\n",
       "      <th>276101</th>\n",
       "      <td>04/01/1999</td>\n",
       "      <td>1999</td>\n",
       "      <td>4</td>\n",
       "      <td>14843</td>\n",
       "      <td>SJU</td>\n",
       "      <td>3</td>\n",
       "      <td>13306</td>\n",
       "      <td>MID</td>\n",
       "      <td>148</td>\n",
       "      <td>19559</td>\n",
       "      <td>MX</td>\n",
       "      <td>0</td>\n",
       "      <td>Departures</td>\n",
       "      <td>1</td>\n",
       "      <td>0</td>\n",
       "      <td>1</td>\n",
       "      <td>0.049529</td>\n",
       "    </tr>\n",
       "    <tr>\n",
       "      <th>214099</th>\n",
       "      <td>07/01/2014</td>\n",
       "      <td>2014</td>\n",
       "      <td>7</td>\n",
       "      <td>12478</td>\n",
       "      <td>JFK</td>\n",
       "      <td>22</td>\n",
       "      <td>16271</td>\n",
       "      <td>YYZ</td>\n",
       "      <td>936</td>\n",
       "      <td>20201</td>\n",
       "      <td>AMQ</td>\n",
       "      <td>1</td>\n",
       "      <td>Departures</td>\n",
       "      <td>0</td>\n",
       "      <td>1</td>\n",
       "      <td>1</td>\n",
       "      <td>0.049529</td>\n",
       "    </tr>\n",
       "  </tbody>\n",
       "</table>\n",
       "<p>930808 rows × 17 columns</p>\n",
       "</div>"
      ],
      "text/plain": [
       "          data_dte  Year  Month  usg_apt_id usg_apt  usg_wac  fg_apt_id  \\\n",
       "930807  05/01/1996  1996      5       12478     JFK       22      14210   \n",
       "930806  09/01/2004  2004      9       12266     IAH       74      15632   \n",
       "930805  08/01/2000  2000      8       13303     MIA       33      13605   \n",
       "930804  04/01/2019  2019      4       13303     MIA       33      14286   \n",
       "930803  07/01/2000  2000      7       13303     MIA       33      13605   \n",
       "...            ...   ...    ...         ...     ...      ...        ...   \n",
       "276098  10/01/1992  1992     10       13342     MKE       45      16271   \n",
       "276099  05/01/2016  2016      5       13495     MSY       72      11244   \n",
       "276100  05/01/2016  2016      5       13495     MSY       72      11032   \n",
       "276101  04/01/1999  1999      4       14843     SJU        3      13306   \n",
       "214099  07/01/2014  2014      7       12478     JFK       22      16271   \n",
       "\n",
       "       fg_apt  fg_wac  airlineid carrier  carriergroup        type  Scheduled  \\\n",
       "930807    POS     280      19542      BW             0  Departures       2019   \n",
       "930806    VSA     148      19534      AM             0  Departures       1461   \n",
       "930805    NAS     204      20398      MQ             1  Departures       1441   \n",
       "930804    PTY     162      19770      CM             0  Departures       1439   \n",
       "930803    NAS     204      20398      MQ             1  Departures       1422   \n",
       "...       ...     ...        ...     ...           ...         ...        ...   \n",
       "276098    YYZ     936      19531      AC             0  Departures          1   \n",
       "276099    CZM     148      19977      UA             1  Departures          1   \n",
       "276100    CUN     148      20416      NK             1  Departures          1   \n",
       "276101    MID     148      19559      MX             0  Departures          1   \n",
       "214099    YYZ     936      20201     AMQ             1  Departures          0   \n",
       "\n",
       "        Charter  Total  Total_Percentage  \n",
       "930807        0   2019        100.000000  \n",
       "930806        0   1461         72.362556  \n",
       "930805        0   1441         71.371966  \n",
       "930804        0   1439         71.272907  \n",
       "930803        0   1422         70.430906  \n",
       "...         ...    ...               ...  \n",
       "276098        0      1          0.049529  \n",
       "276099        0      1          0.049529  \n",
       "276100        0      1          0.049529  \n",
       "276101        0      1          0.049529  \n",
       "214099        1      1          0.049529  \n",
       "\n",
       "[930808 rows x 17 columns]"
      ]
     },
     "execution_count": 23,
     "metadata": {},
     "output_type": "execute_result"
    }
   ],
   "source": [
    "sorted_data = data.sort_values(by='Total', ascending=False)\n",
    "sorted_data "
   ]
  },
  {
   "cell_type": "code",
   "execution_count": 25,
   "id": "81036360-5b84-4535-a2e0-fba98b27b6c5",
   "metadata": {},
   "outputs": [
    {
     "name": "stdout",
     "output_type": "stream",
     "text": [
      "Filtered Data (Total > 1000):\n",
      "           data_dte  Year  Month  usg_apt_id usg_apt  usg_wac  fg_apt_id  \\\n",
      "256379  03/01/2019  2019      3       14262     PSP       91      16229   \n",
      "256649  04/01/2019  2019      4       10559     BFI       93      16229   \n",
      "930759  08/01/2005  2005      8       13002     LKE       93      16007   \n",
      "930766  05/01/2000  2000      5       14747     SEA       93      16229   \n",
      "930767  06/01/2001  2001      6       13303     MIA       33      13605   \n",
      "\n",
      "       fg_apt  fg_wac  airlineid carrier  carriergroup        type  Scheduled  \\\n",
      "256379    YVR     906      21439     14Q             0  Departures          0   \n",
      "256649    YVR     906      21439     14Q             0  Departures          0   \n",
      "930759    YBL     906      20272     KAH             1  Departures        978   \n",
      "930766    YVR     906      19687      QX             1  Departures       1007   \n",
      "930767    NAS     204      20398      MQ             1  Departures       1009   \n",
      "\n",
      "        Charter  Total  Total_Percentage  \n",
      "256379     1008   1008         49.925706  \n",
      "256649     1092   1092         54.086181  \n",
      "930759       28   1006         49.826647  \n",
      "930766        0   1007         49.876176  \n",
      "930767        0   1009         49.975235  \n",
      "Sorted Data (Top Totals):\n",
      "           data_dte  Year  Month  usg_apt_id usg_apt  usg_wac  fg_apt_id  \\\n",
      "930807  05/01/1996  1996      5       12478     JFK       22      14210   \n",
      "930806  09/01/2004  2004      9       12266     IAH       74      15632   \n",
      "930805  08/01/2000  2000      8       13303     MIA       33      13605   \n",
      "930804  04/01/2019  2019      4       13303     MIA       33      14286   \n",
      "930803  07/01/2000  2000      7       13303     MIA       33      13605   \n",
      "\n",
      "       fg_apt  fg_wac  airlineid carrier  carriergroup        type  Scheduled  \\\n",
      "930807    POS     280      19542      BW             0  Departures       2019   \n",
      "930806    VSA     148      19534      AM             0  Departures       1461   \n",
      "930805    NAS     204      20398      MQ             1  Departures       1441   \n",
      "930804    PTY     162      19770      CM             0  Departures       1439   \n",
      "930803    NAS     204      20398      MQ             1  Departures       1422   \n",
      "\n",
      "        Charter  Total  Total_Percentage  \n",
      "930807        0   2019        100.000000  \n",
      "930806        0   1461         72.362556  \n",
      "930805        0   1441         71.371966  \n",
      "930804        0   1439         71.272907  \n",
      "930803        0   1422         70.430906  \n"
     ]
    }
   ],
   "source": [
    "print(\"Filtered Data (Total > 1000):\\n\", filtered_data.head())\n",
    "print(\"Sorted Data (Top Totals):\\n\", sorted_data.head())"
   ]
  },
  {
   "cell_type": "code",
   "execution_count": 26,
   "id": "f51f61c4-a406-43ea-b5a2-911b484cea4b",
   "metadata": {},
   "outputs": [],
   "source": [
    "import numpy as np"
   ]
  },
  {
   "cell_type": "code",
   "execution_count": 27,
   "id": "c7707b2d-11a6-4210-80fd-f12f77282059",
   "metadata": {},
   "outputs": [
    {
     "data": {
      "text/plain": [
       "array([  10,   15,    1, ..., 1441, 1461, 2019], dtype=int64)"
      ]
     },
     "execution_count": 27,
     "metadata": {},
     "output_type": "execute_result"
    }
   ],
   "source": [
    "data_arr = np.array(data['Total']) \n",
    "data_arr"
   ]
  },
  {
   "cell_type": "code",
   "execution_count": 28,
   "id": "5b2d28ae-db0b-4e07-8cf3-2ba221e73a67",
   "metadata": {},
   "outputs": [
    {
     "name": "stdout",
     "output_type": "stream",
     "text": [
      "Data Type: int64\n"
     ]
    }
   ],
   "source": [
    "print(\"Data Type:\", data_arr.dtype)"
   ]
  },
  {
   "cell_type": "code",
   "execution_count": 29,
   "id": "a06fb01c-7fec-46a7-85f7-9dacf7e1d065",
   "metadata": {},
   "outputs": [
    {
     "name": "stdout",
     "output_type": "stream",
     "text": [
      "Shape: (930808,)\n"
     ]
    }
   ],
   "source": [
    "print(\"Shape:\", data_arr.shape)            "
   ]
  },
  {
   "cell_type": "code",
   "execution_count": 30,
   "id": "493e0595-5709-4f9a-b9ec-fa102e473fc9",
   "metadata": {},
   "outputs": [
    {
     "name": "stdout",
     "output_type": "stream",
     "text": [
      "Dimensions: 1\n"
     ]
    }
   ],
   "source": [
    "print(\"Dimensions:\", data_arr.ndim) "
   ]
  },
  {
   "cell_type": "code",
   "execution_count": 31,
   "id": "cc218367-fc69-4e27-b8a1-62fa7e981b9d",
   "metadata": {},
   "outputs": [
    {
     "name": "stdout",
     "output_type": "stream",
     "text": [
      "Sum: 39102001\n"
     ]
    }
   ],
   "source": [
    "print(\"Sum:\", np.sum(data_arr))"
   ]
  },
  {
   "cell_type": "code",
   "execution_count": 32,
   "id": "55952dc9-a062-481e-8c2c-308eac0e202d",
   "metadata": {},
   "outputs": [
    {
     "name": "stdout",
     "output_type": "stream",
     "text": [
      "Mean: 42.00866451513094\n"
     ]
    }
   ],
   "source": [
    "print(\"Mean:\", np.mean(data_arr))"
   ]
  },
  {
   "cell_type": "code",
   "execution_count": 33,
   "id": "9d53f7c7-8a50-4488-b7dd-29d7d5559674",
   "metadata": {},
   "outputs": [
    {
     "name": "stdout",
     "output_type": "stream",
     "text": [
      "Max: 2019\n"
     ]
    }
   ],
   "source": [
    "print(\"Max:\", np.max(data_arr))"
   ]
  },
  {
   "cell_type": "code",
   "execution_count": 34,
   "id": "2a6b18bf-db0a-4f76-b95b-f3f93d527079",
   "metadata": {},
   "outputs": [
    {
     "name": "stdout",
     "output_type": "stream",
     "text": [
      "Min: 1\n"
     ]
    }
   ],
   "source": [
    "print(\"Min:\", np.min(data_arr))"
   ]
  },
  {
   "cell_type": "code",
   "execution_count": 35,
   "id": "a2f22a36-ac55-4c29-888d-45af9a8445d4",
   "metadata": {},
   "outputs": [
    {
     "name": "stdout",
     "output_type": "stream",
     "text": [
      "Standard Deviation: 60.34080267772513\n"
     ]
    }
   ],
   "source": [
    "print(\"Standard Deviation:\", np.std(data_arr)) "
   ]
  },
  {
   "cell_type": "code",
   "execution_count": 37,
   "id": "d2aa55d6-9c9e-4d99-9456-184000f8975f",
   "metadata": {},
   "outputs": [
    {
     "data": {
      "text/plain": [
       "array([0, 1, 2, 3, 4, 5, 6, 7, 8, 9])"
      ]
     },
     "execution_count": 37,
     "metadata": {},
     "output_type": "execute_result"
    }
   ],
   "source": [
    "arr1 = np.arange(10) \n",
    "arr1"
   ]
  },
  {
   "cell_type": "code",
   "execution_count": 38,
   "id": "335d5b8b-7b3c-4ed2-883f-d65e2a0aed6f",
   "metadata": {},
   "outputs": [
    {
     "data": {
      "text/plain": [
       "array([[94, 94, 14],\n",
       "       [18, 28, 63],\n",
       "       [20, 12, 23]])"
      ]
     },
     "execution_count": 38,
     "metadata": {},
     "output_type": "execute_result"
    }
   ],
   "source": [
    "arr2 = np.random.randint(0, 100, (3, 3))\n",
    "arr2"
   ]
  },
  {
   "cell_type": "code",
   "execution_count": 39,
   "id": "06970249-10fb-4192-9746-03a8fdcc92bd",
   "metadata": {},
   "outputs": [
    {
     "data": {
      "text/plain": [
       "array([ 5,  6,  7,  8,  9, 10, 11, 12, 13, 14])"
      ]
     },
     "execution_count": 39,
     "metadata": {},
     "output_type": "execute_result"
    }
   ],
   "source": [
    "arr_sum = arr1 + 5 \n",
    "arr_sum"
   ]
  },
  {
   "cell_type": "code",
   "execution_count": 41,
   "id": "770a0f6b-aadc-4eef-bfd0-b224f92937d0",
   "metadata": {},
   "outputs": [
    {
     "data": {
      "text/plain": [
       "array([ 0,  1,  4,  9, 16, 25, 36, 49, 64, 81])"
      ]
     },
     "execution_count": 41,
     "metadata": {},
     "output_type": "execute_result"
    }
   ],
   "source": [
    "arr_squared = arr1 ** 2 \n",
    "arr_squared"
   ]
  },
  {
   "cell_type": "code",
   "execution_count": 43,
   "id": "76bfd753-0751-426e-9441-bada39313cc1",
   "metadata": {},
   "outputs": [
    {
     "data": {
      "text/plain": [
       "array([ 5,  7,  9, 11, 13])"
      ]
     },
     "execution_count": 43,
     "metadata": {},
     "output_type": "execute_result"
    }
   ],
   "source": [
    "arr_add = arr1[:5] + arr1[5:]\n",
    "arr_add"
   ]
  },
  {
   "cell_type": "code",
   "execution_count": 44,
   "id": "43547d48-321c-46b0-856d-43922e4ca185",
   "metadata": {},
   "outputs": [
    {
     "name": "stdout",
     "output_type": "stream",
     "text": [
      "Array 1: [0 1 2 3 4 5 6 7 8 9]\n"
     ]
    }
   ],
   "source": [
    "print(\"Array 1:\", arr1)"
   ]
  },
  {
   "cell_type": "code",
   "execution_count": 45,
   "id": "a9ca6a48-c080-412d-ad10-8378f40fb515",
   "metadata": {},
   "outputs": [
    {
     "name": "stdout",
     "output_type": "stream",
     "text": [
      "Array 2:\n",
      " [[94 94 14]\n",
      " [18 28 63]\n",
      " [20 12 23]]\n"
     ]
    }
   ],
   "source": [
    "print(\"Array 2:\\n\", arr2)"
   ]
  },
  {
   "cell_type": "code",
   "execution_count": 46,
   "id": "1a0fe8ba-2040-4372-af9d-36cb530470d1",
   "metadata": {},
   "outputs": [
    {
     "name": "stdout",
     "output_type": "stream",
     "text": [
      "Array with 5 added: [ 5  6  7  8  9 10 11 12 13 14]\n"
     ]
    }
   ],
   "source": [
    "print(\"Array with 5 added:\", arr_sum)\n"
   ]
  },
  {
   "cell_type": "code",
   "execution_count": 47,
   "id": "2bd3513a-ba78-461b-8901-f2e3be7a0ac5",
   "metadata": {},
   "outputs": [
    {
     "name": "stdout",
     "output_type": "stream",
     "text": [
      "Array squared: [ 0  1  4  9 16 25 36 49 64 81]\n"
     ]
    }
   ],
   "source": [
    "print(\"Array squared:\", arr_squared)\n"
   ]
  },
  {
   "cell_type": "code",
   "execution_count": 48,
   "id": "989334cd-ec66-4571-88d4-a7fbf81f6d10",
   "metadata": {},
   "outputs": [
    {
     "name": "stdout",
     "output_type": "stream",
     "text": [
      "Array addition: [ 5  7  9 11 13]\n"
     ]
    }
   ],
   "source": [
    "print(\"Array addition:\", arr_add)\n"
   ]
  },
  {
   "cell_type": "code",
   "execution_count": 49,
   "id": "b5aaeb5e-9bde-4271-a2af-4f4ae2e3e723",
   "metadata": {},
   "outputs": [],
   "source": [
    "import matplotlib.pyplot as plt\n"
   ]
  },
  {
   "cell_type": "code",
   "execution_count": 50,
   "id": "cf5c22e2-d6f4-4b72-a294-a1dbe79ca32e",
   "metadata": {},
   "outputs": [
    {
     "data": {
      "text/plain": [
       "<Figure size 1000x500 with 0 Axes>"
      ]
     },
     "execution_count": 50,
     "metadata": {},
     "output_type": "execute_result"
    },
    {
     "data": {
      "text/plain": [
       "<Figure size 1000x500 with 0 Axes>"
      ]
     },
     "metadata": {},
     "output_type": "display_data"
    }
   ],
   "source": [
    "plt.figure(figsize=(10, 5))"
   ]
  },
  {
   "cell_type": "code",
   "execution_count": 51,
   "id": "5bc10c57-7e8b-4c08-ba7b-26ef44637944",
   "metadata": {},
   "outputs": [
    {
     "data": {
      "text/plain": [
       "[<matplotlib.lines.Line2D at 0x19cdceacf80>]"
      ]
     },
     "execution_count": 51,
     "metadata": {},
     "output_type": "execute_result"
    },
    {
     "data": {
      "image/png": "[encoded data removed]",
      "text/plain": [
       "<Figure size 640x480 with 1 Axes>"
      ]
     },
     "metadata": {},
     "output_type": "display_data"
    }
   ],
   "source": [
    "plt.plot(data['Total'][:100], color='blue', label='Total Passengers')"
   ]
  },
  {
   "cell_type": "code",
   "execution_count": 52,
   "id": "e69c3214-a582-4eaf-acde-87c5964c8ca0",
   "metadata": {},
   "outputs": [
    {
     "data": {
      "text/plain": [
       "Text(0.5, 1.0, 'Total Passengers Over Time (First 100 Rows)')"
      ]
     },
     "execution_count": 52,
     "metadata": {},
     "output_type": "execute_result"
    },
    {
     "data": {
      "image/png": "[encoded data removed]",
      "text/plain": [
       "<Figure size 640x480 with 1 Axes>"
      ]
     },
     "metadata": {},
     "output_type": "display_data"
    }
   ],
   "source": [
    "plt.title('Total Passengers Over Time (First 100 Rows)')"
   ]
  },
  {
   "cell_type": "code",
   "execution_count": 53,
   "id": "badbfe22-1f8b-486f-ba74-80ace90f882b",
   "metadata": {},
   "outputs": [
    {
     "data": {
      "text/plain": [
       "Text(0.5, 0, 'Index')"
      ]
     },
     "execution_count": 53,
     "metadata": {},
     "output_type": "execute_result"
    },
    {
     "data": {
      "image/png": "[encoded data removed]",
      "text/plain": [
       "<Figure size 640x480 with 1 Axes>"
      ]
     },
     "metadata": {},
     "output_type": "display_data"
    }
   ],
   "source": [
    "plt.xlabel('Index')\n"
   ]
  },
  {
   "cell_type": "code",
   "execution_count": 54,
   "id": "a2c8acce-fc96-42e8-8a9e-b20a44263092",
   "metadata": {},
   "outputs": [
    {
     "data": {
      "text/plain": [
       "Text(0, 0.5, 'Total Passengers')"
      ]
     },
     "execution_count": 54,
     "metadata": {},
     "output_type": "execute_result"
    },
    {
     "data": {
      "image/png": "[encoded data removed]",
      "text/plain": [
       "<Figure size 640x480 with 1 Axes>"
      ]
     },
     "metadata": {},
     "output_type": "display_data"
    }
   ],
   "source": [
    "plt.ylabel('Total Passengers')"
   ]
  },
  {
   "cell_type": "code",
   "execution_count": 55,
   "id": "e08cb22f-bedc-42eb-96b3-4a4c3713d36a",
   "metadata": {},
   "outputs": [
    {
     "name": "stderr",
     "output_type": "stream",
     "text": [
      "C:\\Users\\S\\AppData\\Local\\Temp\\ipykernel_12344\\4061938096.py:1: UserWarning: No artists with labels found to put in legend.  Note that artists whose label start with an underscore are ignored when legend() is called with no argument.\n",
      "  plt.legend()\n"
     ]
    },
    {
     "data": {
      "text/plain": [
       "<matplotlib.legend.Legend at 0x19cdd143ce0>"
      ]
     },
     "execution_count": 55,
     "metadata": {},
     "output_type": "execute_result"
    },
    {
     "data": {
      "image/png": "[encoded data removed]",
      "text/plain": [
       "<Figure size 640x480 with 1 Axes>"
      ]
     },
     "metadata": {},
     "output_type": "display_data"
    }
   ],
   "source": [
    "plt.legend()"
   ]
  },
  {
   "cell_type": "code",
   "execution_count": 56,
   "id": "6d74dc19-edf5-4209-ad90-11a79a692fc5",
   "metadata": {},
   "outputs": [
    {
     "data": {
      "image/png": "[encoded data removed]",
      "text/plain": [
       "<Figure size 640x480 with 1 Axes>"
      ]
     },
     "metadata": {},
     "output_type": "display_data"
    }
   ],
   "source": [
    "plt.grid(True)"
   ]
  },
  {
   "cell_type": "code",
   "execution_count": 57,
   "id": "b6c97ff9-5c20-42fe-9610-1417ffb8f89e",
   "metadata": {},
   "outputs": [],
   "source": [
    "plt.show()"
   ]
  },
  {
   "cell_type": "code",
   "execution_count": 59,
   "id": "ac83b81a-c4b9-4f76-b64c-d29d800488a8",
   "metadata": {},
   "outputs": [
    {
     "data": {
      "text/html": [
       "<div>\n",
       "<style scoped>\n",
       "    .dataframe tbody tr th:only-of-type {\n",
       "        vertical-align: middle;\n",
       "    }\n",
       "\n",
       "    .dataframe tbody tr th {\n",
       "        vertical-align: top;\n",
       "    }\n",
       "\n",
       "    .dataframe thead th {\n",
       "        text-align: right;\n",
       "    }\n",
       "</style>\n",
       "<table border=\"1\" class=\"dataframe\">\n",
       "  <thead>\n",
       "    <tr style=\"text-align: right;\">\n",
       "      <th></th>\n",
       "      <th>data_dte</th>\n",
       "      <th>Year</th>\n",
       "      <th>Month</th>\n",
       "      <th>usg_apt_id</th>\n",
       "      <th>usg_apt</th>\n",
       "      <th>usg_wac</th>\n",
       "      <th>fg_apt_id</th>\n",
       "      <th>fg_apt</th>\n",
       "      <th>fg_wac</th>\n",
       "      <th>airlineid</th>\n",
       "      <th>carrier</th>\n",
       "      <th>carriergroup</th>\n",
       "      <th>type</th>\n",
       "      <th>Scheduled</th>\n",
       "      <th>Charter</th>\n",
       "      <th>Total</th>\n",
       "      <th>Total_Percentage</th>\n",
       "    </tr>\n",
       "  </thead>\n",
       "  <tbody>\n",
       "    <tr>\n",
       "      <th>930807</th>\n",
       "      <td>05/01/1996</td>\n",
       "      <td>1996</td>\n",
       "      <td>5</td>\n",
       "      <td>12478</td>\n",
       "      <td>JFK</td>\n",
       "      <td>22</td>\n",
       "      <td>14210</td>\n",
       "      <td>POS</td>\n",
       "      <td>280</td>\n",
       "      <td>19542</td>\n",
       "      <td>BW</td>\n",
       "      <td>0</td>\n",
       "      <td>Departures</td>\n",
       "      <td>2019</td>\n",
       "      <td>0</td>\n",
       "      <td>2019</td>\n",
       "      <td>100.000000</td>\n",
       "    </tr>\n",
       "    <tr>\n",
       "      <th>930806</th>\n",
       "      <td>09/01/2004</td>\n",
       "      <td>2004</td>\n",
       "      <td>9</td>\n",
       "      <td>12266</td>\n",
       "      <td>IAH</td>\n",
       "      <td>74</td>\n",
       "      <td>15632</td>\n",
       "      <td>VSA</td>\n",
       "      <td>148</td>\n",
       "      <td>19534</td>\n",
       "      <td>AM</td>\n",
       "      <td>0</td>\n",
       "      <td>Departures</td>\n",
       "      <td>1461</td>\n",
       "      <td>0</td>\n",
       "      <td>1461</td>\n",
       "      <td>72.362556</td>\n",
       "    </tr>\n",
       "    <tr>\n",
       "      <th>930805</th>\n",
       "      <td>08/01/2000</td>\n",
       "      <td>2000</td>\n",
       "      <td>8</td>\n",
       "      <td>13303</td>\n",
       "      <td>MIA</td>\n",
       "      <td>33</td>\n",
       "      <td>13605</td>\n",
       "      <td>NAS</td>\n",
       "      <td>204</td>\n",
       "      <td>20398</td>\n",
       "      <td>MQ</td>\n",
       "      <td>1</td>\n",
       "      <td>Departures</td>\n",
       "      <td>1441</td>\n",
       "      <td>0</td>\n",
       "      <td>1441</td>\n",
       "      <td>71.371966</td>\n",
       "    </tr>\n",
       "    <tr>\n",
       "      <th>930804</th>\n",
       "      <td>04/01/2019</td>\n",
       "      <td>2019</td>\n",
       "      <td>4</td>\n",
       "      <td>13303</td>\n",
       "      <td>MIA</td>\n",
       "      <td>33</td>\n",
       "      <td>14286</td>\n",
       "      <td>PTY</td>\n",
       "      <td>162</td>\n",
       "      <td>19770</td>\n",
       "      <td>CM</td>\n",
       "      <td>0</td>\n",
       "      <td>Departures</td>\n",
       "      <td>1439</td>\n",
       "      <td>0</td>\n",
       "      <td>1439</td>\n",
       "      <td>71.272907</td>\n",
       "    </tr>\n",
       "    <tr>\n",
       "      <th>930803</th>\n",
       "      <td>07/01/2000</td>\n",
       "      <td>2000</td>\n",
       "      <td>7</td>\n",
       "      <td>13303</td>\n",
       "      <td>MIA</td>\n",
       "      <td>33</td>\n",
       "      <td>13605</td>\n",
       "      <td>NAS</td>\n",
       "      <td>204</td>\n",
       "      <td>20398</td>\n",
       "      <td>MQ</td>\n",
       "      <td>1</td>\n",
       "      <td>Departures</td>\n",
       "      <td>1422</td>\n",
       "      <td>0</td>\n",
       "      <td>1422</td>\n",
       "      <td>70.430906</td>\n",
       "    </tr>\n",
       "  </tbody>\n",
       "</table>\n",
       "</div>"
      ],
      "text/plain": [
       "          data_dte  Year  Month  usg_apt_id usg_apt  usg_wac  fg_apt_id  \\\n",
       "930807  05/01/1996  1996      5       12478     JFK       22      14210   \n",
       "930806  09/01/2004  2004      9       12266     IAH       74      15632   \n",
       "930805  08/01/2000  2000      8       13303     MIA       33      13605   \n",
       "930804  04/01/2019  2019      4       13303     MIA       33      14286   \n",
       "930803  07/01/2000  2000      7       13303     MIA       33      13605   \n",
       "\n",
       "       fg_apt  fg_wac  airlineid carrier  carriergroup        type  Scheduled  \\\n",
       "930807    POS     280      19542      BW             0  Departures       2019   \n",
       "930806    VSA     148      19534      AM             0  Departures       1461   \n",
       "930805    NAS     204      20398      MQ             1  Departures       1441   \n",
       "930804    PTY     162      19770      CM             0  Departures       1439   \n",
       "930803    NAS     204      20398      MQ             1  Departures       1422   \n",
       "\n",
       "        Charter  Total  Total_Percentage  \n",
       "930807        0   2019        100.000000  \n",
       "930806        0   1461         72.362556  \n",
       "930805        0   1441         71.371966  \n",
       "930804        0   1439         71.272907  \n",
       "930803        0   1422         70.430906  "
      ]
     },
     "execution_count": 59,
     "metadata": {},
     "output_type": "execute_result"
    }
   ],
   "source": [
    "top5_data = data.sort_values(by='Total', ascending=False).head(5)\n",
    "top5_data"
   ]
  },
  {
   "cell_type": "code",
   "execution_count": 60,
   "id": "5e19649e-59b2-4777-9f06-3018eaa879cf",
   "metadata": {},
   "outputs": [
    {
     "data": {
      "text/plain": [
       "<Figure size 800x500 with 0 Axes>"
      ]
     },
     "execution_count": 60,
     "metadata": {},
     "output_type": "execute_result"
    },
    {
     "data": {
      "text/plain": [
       "<Figure size 800x500 with 0 Axes>"
      ]
     },
     "metadata": {},
     "output_type": "display_data"
    }
   ],
   "source": [
    "plt.figure(figsize=(8, 5))"
   ]
  },
  {
   "cell_type": "code",
   "execution_count": 61,
   "id": "ee0f6920-b903-4b0f-aad6-cc14174a8694",
   "metadata": {},
   "outputs": [
    {
     "data": {
      "text/plain": [
       "<BarContainer object of 5 artists>"
      ]
     },
     "execution_count": 61,
     "metadata": {},
     "output_type": "execute_result"
    },
    {
     "data": {
      "image/png": "[encoded data removed]",
      "text/plain": [
       "<Figure size 640x480 with 1 Axes>"
      ]
     },
     "metadata": {},
     "output_type": "display_data"
    }
   ],
   "source": [
    "plt.bar(top5_data['usg_apt'], top5_data['Total'], color='green')"
   ]
  },
  {
   "cell_type": "code",
   "execution_count": 62,
   "id": "f880646c-b197-4b0a-929c-ff2993ce177f",
   "metadata": {},
   "outputs": [
    {
     "data": {
      "text/plain": [
       "Text(0.5, 1.0, 'Top 5 Airports by Total Passengers')"
      ]
     },
     "execution_count": 62,
     "metadata": {},
     "output_type": "execute_result"
    },
    {
     "data": {
      "image/png": "[encoded data removed]",
      "text/plain": [
       "<Figure size 640x480 with 1 Axes>"
      ]
     },
     "metadata": {},
     "output_type": "display_data"
    }
   ],
   "source": [
    "plt.title('Top 5 Airports by Total Passengers')"
   ]
  },
  {
   "cell_type": "code",
   "execution_count": 63,
   "id": "29d0b9ce-a109-49ff-8539-a078651d38d3",
   "metadata": {},
   "outputs": [
    {
     "data": {
      "text/plain": [
       "Text(0.5, 0, 'Airport')"
      ]
     },
     "execution_count": 63,
     "metadata": {},
     "output_type": "execute_result"
    },
    {
     "data": {
      "image/png": "[encoded data removed]",
      "text/plain": [
       "<Figure size 640x480 with 1 Axes>"
      ]
     },
     "metadata": {},
     "output_type": "display_data"
    }
   ],
   "source": [
    "plt.xlabel('Airport')"
   ]
  },
  {
   "cell_type": "code",
   "execution_count": 64,
   "id": "7282442d-87d4-43b8-83a4-81deb5d1acc2",
   "metadata": {},
   "outputs": [
    {
     "data": {
      "text/plain": [
       "Text(0, 0.5, 'Total Passengers')"
      ]
     },
     "execution_count": 64,
     "metadata": {},
     "output_type": "execute_result"
    },
    {
     "data": {
      "image/png": "[encoded data removed]",
      "text/plain": [
       "<Figure size 640x480 with 1 Axes>"
      ]
     },
     "metadata": {},
     "output_type": "display_data"
    }
   ],
   "source": [
    "plt.ylabel('Total Passengers')"
   ]
  },
  {
   "cell_type": "code",
   "execution_count": 65,
   "id": "568e5d8b-6853-46b6-91c3-0ed0b61e5118",
   "metadata": {},
   "outputs": [],
   "source": [
    "plt.show()"
   ]
  },
  {
   "cell_type": "code",
   "execution_count": 66,
   "id": "53dad122-0405-415f-8312-22c0931651bf",
   "metadata": {},
   "outputs": [
    {
     "data": {
      "text/plain": [
       "<Figure size 1000x500 with 0 Axes>"
      ]
     },
     "execution_count": 66,
     "metadata": {},
     "output_type": "execute_result"
    },
    {
     "data": {
      "text/plain": [
       "<Figure size 1000x500 with 0 Axes>"
      ]
     },
     "metadata": {},
     "output_type": "display_data"
    }
   ],
   "source": [
    "plt.figure(figsize=(10, 5))"
   ]
  },
  {
   "cell_type": "code",
   "execution_count": 67,
   "id": "f62aa49f-6e0e-4c19-8930-878fe3575eb4",
   "metadata": {},
   "outputs": [
    {
     "data": {
      "text/plain": [
       "(array([8.26245e+05, 8.08880e+04, 1.61420e+04, 5.00800e+03, 1.43900e+03,\n",
       "        4.72000e+02, 3.61000e+02, 1.06000e+02, 6.00000e+01, 4.60000e+01,\n",
       "        2.80000e+01, 4.00000e+00, 3.00000e+00, 1.00000e+00, 4.00000e+00,\n",
       "        0.00000e+00, 0.00000e+00, 0.00000e+00, 0.00000e+00, 1.00000e+00]),\n",
       " array([1.0000e+00, 1.0190e+02, 2.0280e+02, 3.0370e+02, 4.0460e+02,\n",
       "        5.0550e+02, 6.0640e+02, 7.0730e+02, 8.0820e+02, 9.0910e+02,\n",
       "        1.0100e+03, 1.1109e+03, 1.2118e+03, 1.3127e+03, 1.4136e+03,\n",
       "        1.5145e+03, 1.6154e+03, 1.7163e+03, 1.8172e+03, 1.9181e+03,\n",
       "        2.0190e+03]),\n",
       " <BarContainer object of 20 artists>)"
      ]
     },
     "execution_count": 67,
     "metadata": {},
     "output_type": "execute_result"
    },
    {
     "data": {
      "image/png": "[encoded data removed]",
      "text/plain": [
       "<Figure size 640x480 with 1 Axes>"
      ]
     },
     "metadata": {},
     "output_type": "display_data"
    }
   ],
   "source": [
    "plt.hist(data['Total'], bins=20, color='orange', edgecolor='black', alpha=0.7)"
   ]
  },
  {
   "cell_type": "code",
   "execution_count": 68,
   "id": "09fd3ad2-bb2f-49af-9310-03142dfd79f0",
   "metadata": {},
   "outputs": [
    {
     "data": {
      "text/plain": [
       "Text(0.5, 1.0, 'Distribution of Total Passengers')"
      ]
     },
     "execution_count": 68,
     "metadata": {},
     "output_type": "execute_result"
    },
    {
     "data": {
      "image/png": "[encoded data removed]",
      "text/plain": [
       "<Figure size 640x480 with 1 Axes>"
      ]
     },
     "metadata": {},
     "output_type": "display_data"
    }
   ],
   "source": [
    "plt.title('Distribution of Total Passengers')"
   ]
  },
  {
   "cell_type": "code",
   "execution_count": 69,
   "id": "0c5efd01-9b74-4ff1-a18f-1a1b47d85a31",
   "metadata": {},
   "outputs": [
    {
     "data": {
      "text/plain": [
       "Text(0.5, 0, 'Total Passengers')"
      ]
     },
     "execution_count": 69,
     "metadata": {},
     "output_type": "execute_result"
    },
    {
     "data": {
      "image/png": "[encoded data removed]",
      "text/plain": [
       "<Figure size 640x480 with 1 Axes>"
      ]
     },
     "metadata": {},
     "output_type": "display_data"
    }
   ],
   "source": [
    "plt.xlabel('Total Passengers')"
   ]
  },
  {
   "cell_type": "code",
   "execution_count": 70,
   "id": "28f7077c-04fb-4875-b08d-0a1bd3be4a2b",
   "metadata": {},
   "outputs": [
    {
     "data": {
      "text/plain": [
       "Text(0, 0.5, 'Frequency')"
      ]
     },
     "execution_count": 70,
     "metadata": {},
     "output_type": "execute_result"
    },
    {
     "data": {
      "image/png": "[encoded data removed]",
      "text/plain": [
       "<Figure size 640x480 with 1 Axes>"
      ]
     },
     "metadata": {},
     "output_type": "display_data"
    }
   ],
   "source": [
    "plt.ylabel('Frequency')"
   ]
  },
  {
   "cell_type": "code",
   "execution_count": 71,
   "id": "8e95037f-3f99-4e29-882f-b62fe2c7cdfe",
   "metadata": {},
   "outputs": [],
   "source": [
    "plt.show()"
   ]
  },
  {
   "cell_type": "code",
   "execution_count": 72,
   "id": "11d54b9f-beb0-409d-8ea7-8ef745af6a78",
   "metadata": {},
   "outputs": [
    {
     "data": {
      "text/plain": [
       "<Figure size 1000x500 with 0 Axes>"
      ]
     },
     "execution_count": 72,
     "metadata": {},
     "output_type": "execute_result"
    },
    {
     "data": {
      "text/plain": [
       "<Figure size 1000x500 with 0 Axes>"
      ]
     },
     "metadata": {},
     "output_type": "display_data"
    }
   ],
   "source": [
    "plt.figure(figsize=(10, 5))"
   ]
  },
  {
   "cell_type": "code",
   "execution_count": 73,
   "id": "9de16553-33ed-42b7-84b7-53b78b9861a3",
   "metadata": {},
   "outputs": [
    {
     "data": {
      "text/plain": [
       "<matplotlib.collections.PathCollection at 0x19cdcf7de80>"
      ]
     },
     "execution_count": 73,
     "metadata": {},
     "output_type": "execute_result"
    },
    {
     "data": {
      "image/png": "[encoded data removed]",
      "text/plain": [
       "<Figure size 640x480 with 1 Axes>"
      ]
     },
     "metadata": {},
     "output_type": "display_data"
    }
   ],
   "source": [
    "plt.scatter(data['Scheduled'], data['Total'], alpha=0.5, color='purple')"
   ]
  },
  {
   "cell_type": "code",
   "execution_count": 74,
   "id": "54bf7bab-ac7e-4083-b35e-f07dfb91033d",
   "metadata": {},
   "outputs": [
    {
     "data": {
      "text/plain": [
       "Text(0.5, 1.0, 'Scheduled vs Total Passengers')"
      ]
     },
     "execution_count": 74,
     "metadata": {},
     "output_type": "execute_result"
    },
    {
     "data": {
      "image/png": "[encoded data removed]",
      "text/plain": [
       "<Figure size 640x480 with 1 Axes>"
      ]
     },
     "metadata": {},
     "output_type": "display_data"
    }
   ],
   "source": [
    "plt.title('Scheduled vs Total Passengers')"
   ]
  },
  {
   "cell_type": "code",
   "execution_count": 75,
   "id": "1ce34f1f-5dc2-473e-84e7-bc426597fd8d",
   "metadata": {},
   "outputs": [
    {
     "data": {
      "text/plain": [
       "Text(0.5, 0, 'Scheduled Passengers')"
      ]
     },
     "execution_count": 75,
     "metadata": {},
     "output_type": "execute_result"
    },
    {
     "data": {
      "image/png": "[encoded data removed]",
      "text/plain": [
       "<Figure size 640x480 with 1 Axes>"
      ]
     },
     "metadata": {},
     "output_type": "display_data"
    }
   ],
   "source": [
    "plt.xlabel('Scheduled Passengers')"
   ]
  },
  {
   "cell_type": "code",
   "execution_count": 76,
   "id": "3e326b44-b2c4-4b98-8be8-f3d5cc9acbe3",
   "metadata": {
    "scrolled": true
   },
   "outputs": [
    {
     "data": {
      "text/plain": [
       "Text(0, 0.5, 'Total Passengers')"
      ]
     },
     "execution_count": 76,
     "metadata": {},
     "output_type": "execute_result"
    },
    {
     "data": {
      "image/png": "[encoded data removed]",
      "text/plain": [
       "<Figure size 640x480 with 1 Axes>"
      ]
     },
     "metadata": {},
     "output_type": "display_data"
    }
   ],
   "source": [
    "plt.ylabel('Total Passengers')"
   ]
  },
  {
   "cell_type": "code",
   "execution_count": 77,
   "id": "9858c074-b271-44ba-abcc-f16bfe491221",
   "metadata": {},
   "outputs": [
    {
     "data": {
      "image/png": "[encoded data removed]",
      "text/plain": [
       "<Figure size 640x480 with 1 Axes>"
      ]
     },
     "metadata": {},
     "output_type": "display_data"
    }
   ],
   "source": [
    "plt.grid(True)"
   ]
  },
  {
   "cell_type": "code",
   "execution_count": 78,
   "id": "4ff8f5d6-d319-4407-b3cb-8388c86adde2",
   "metadata": {},
   "outputs": [],
   "source": [
    "plt.show()"
   ]
  },
  {
   "cell_type": "code",
   "execution_count": null,
   "id": "ba8d638f-0f7e-43a6-a96a-ac67e6c52f44",
   "metadata": {},
   "outputs": [],
   "source": []
  }
 ],
 "metadata": {
  "kernelspec": {
   "display_name": "Python 3 (ipykernel)",
   "language": "python",
   "name": "python3"
  },
  "language_info": {
   "codemirror_mode": {
    "name": "ipython",
    "version": 3
   },
   "file_extension": ".py",
   "mimetype": "text/x-python",
   "name": "python",
   "nbconvert_exporter": "python",
   "pygments_lexer": "ipython3",
   "version": "3.12.7"
  }
 },
 "nbformat": 4,
 "nbformat_minor": 5
}
